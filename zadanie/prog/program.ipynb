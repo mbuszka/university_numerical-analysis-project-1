{
 "cells": [
  {
   "cell_type": "code",
   "execution_count": null,
   "metadata": {
    "collapsed": true
   },
   "outputs": [],
   "source": [
    "# Pracownia z analizy numerycznej, zadanie P1.16"
   ]
  },
  {
   "cell_type": "markdown",
   "metadata": {},
   "source": [
    "## Metoda Newtona"
   ]
  },
  {
   "cell_type": "code",
   "execution_count": 1,
   "metadata": {
    "collapsed": false
   },
   "outputs": [],
   "source": [
    "IJulia.load(\"newton.jl\")"
   ]
  },
  {
   "cell_type": "code",
   "execution_count": 7,
   "metadata": {
    "collapsed": false
   },
   "outputs": [
    {
     "data": {
      "text/plain": [
       "Newton"
      ]
     },
     "execution_count": 7,
     "metadata": {},
     "output_type": "execute_result"
    }
   ],
   "source": [
    "module Newton\n",
    "\n",
    "using Gauss\n",
    "include(\"utils.jl\")\n",
    "\n",
    "export newton\n",
    "\n",
    "function newton(F, J, X, solve = (A, B) -> \\(A, B); ϵs = 1e-15, maxiter = 20, log = false)\n",
    "  ϵ = 1.0\n",
    "  i = 0\n",
    "  if log\n",
    "    @printf(\"Iteration\\t|F(X)|\\t\\tϵ\\n\")\n",
    "  end\n",
    "  while ϵ > ϵs && i < maxiter\n",
    "    JX = J(X)\n",
    "    FX = F(X)\n",
    "    δX = solve(JX, FX)\n",
    "    ϵ  = norm(δX) / norm(X)\n",
    "    if log\n",
    "      @printf(\"%d\\t\\t%e\\t%e\\n\", i, norm(FX), ϵ)\n",
    "    end\n",
    "    X  = X - δX\n",
    "    i += 1\n",
    "  end\n",
    "  if log\n",
    "    @printf(\"Final approximation:\\n\")\n",
    "    print_array(X)\n",
    "  end\n",
    "end\n",
    "\n",
    "end # Newton\n"
   ]
  },
  {
   "cell_type": "code",
   "execution_count": 2,
   "metadata": {
    "collapsed": true
   },
   "outputs": [],
   "source": [
    "IJulia.load(\"gauss.jl\")"
   ]
  },
  {
   "cell_type": "code",
   "execution_count": 6,
   "metadata": {
    "collapsed": false
   },
   "outputs": [
    {
     "data": {
      "text/plain": [
       "Gauss"
      ]
     },
     "execution_count": 6,
     "metadata": {},
     "output_type": "execute_result"
    }
   ],
   "source": [
    "module Gauss\n",
    "\n",
    "export gauss_naive!, gauss!\n",
    "\n",
    "\"\"\"\n",
    "Oblicza rozwiązanie układu równań AX = B metodą eliminacji Gaussa.\n",
    "\n",
    "Korzysta z naiwnego algorytmu zaadaptowanego z książki Numerical Mathematics\n",
    "and Computing Warda Cheney'a i Davida Kincaida\n",
    "\"\"\"\n",
    "function gauss_naive!(A, B)\n",
    "  n = length(B)\n",
    "  X = Array{eltype(A)}(n)\n",
    "  for k in 1 : n-1\n",
    "    for i = k + 1 : n\n",
    "      mult = A[i, k] / A[k, k]\n",
    "      A[i, k] = 0 \n",
    "      for j in k + 1 : n\n",
    "        A[i, j] -= mult * A[k, j]\n",
    "      end\n",
    "      B[i] -= mult * B[k]\n",
    "    end\n",
    "  end\n",
    "  X[n] = B[n] / A[n, n]\n",
    "  for i in n-1 : -1 : 1\n",
    "    sum = B[i]\n",
    "    for j in i + 1 : n\n",
    "      sum -= A[i, j] * X[j]\n",
    "    end\n",
    "    X[i] = sum / A[i, i]\n",
    "  end\n",
    "  X\n",
    "end\n",
    "\n",
    "\n",
    "\"\"\"\n",
    "Oblicza rozwiązanie układu równań AX = B metodą eliminacji Gaussa.\n",
    "\n",
    "Korzysta z algorytmu skalowanego elementu głównego, przekształca\n",
    "macierz wejściową A, tak że w górnej trójkątnej jej części znajduje się\n",
    "jej postać schodkowa, natomiast w dolnej zapisane są użyte mnożniki\n",
    "które wykorzystywane są w kroku podstawiania\n",
    "\n",
    "Algorytm został zaadaptowany z książki Numerical Mathematics and Computing\n",
    "Warda Cheney'a i Davida Kincaida\n",
    "\"\"\"\n",
    "function gauss!(A, B, log = false)\n",
    "  n = length(B)\n",
    "  l = gauss_eliminate!(A, n)\n",
    "  if log\n",
    "    @show A\n",
    "    @show l\n",
    "  end\n",
    "  X = gauss_substitute!(A, B, l, n)\n",
    "  if log\n",
    "    @show X\n",
    "  end\n",
    "  X\n",
    "end\n",
    "\n",
    "\n",
    "\"\"\"\n",
    "Implementuje krok eliminacji, zapisując mnożniki w dolnej trójkątnej\n",
    "części macierzy A i zwracając permutację wierszy macierzy A\n",
    "\"\"\"\n",
    "function gauss_eliminate!(A, n)\n",
    "  s = Array{eltype(A)}(n) # Scale vector\n",
    "  l = Array{Int}(n)       # Index permutation\n",
    "  for i in 1 : n\n",
    "    l[i] = i\n",
    "    smax = 0\n",
    "    for j in 1 : n\n",
    "      smax = max(smax, abs(A[i, j]))\n",
    "    end\n",
    "    s[i] = smax\n",
    "  end\n",
    "  for k in 1 : n-1\n",
    "    rmax = 0\n",
    "    maxidx = k\n",
    "    for i in k : n\n",
    "      r = abs(A[l[i], k] / s[l[i]])\n",
    "      if r > rmax\n",
    "        rmax = r\n",
    "        maxidx = i\n",
    "      end\n",
    "    end\n",
    "    t = l[maxidx]\n",
    "    l[maxidx] = l[k]\n",
    "    l[k] = t\n",
    "    for i = k + 1 : n\n",
    "      mult = A[l[i], k] / A[l[k], k]\n",
    "      A[l[i], k] = mult \n",
    "      for j in k + 1 : n\n",
    "        A[l[i], j] -= mult * A[l[k], j]\n",
    "      end\n",
    "    end\n",
    "  end\n",
    "  l\n",
    "end\n",
    "\n",
    "\"\"\"\n",
    "Implementuje krok podstawiania\n",
    "\"\"\"\n",
    "function gauss_substitute!(A, B, l, n)\n",
    "  X = Array{eltype(A)}(n) # Solution vector\n",
    "  for k in 1 : n - 1\n",
    "    for i in k + 1 : n\n",
    "      B[l[i]] -= A[l[i], k] * B[l[k]]\n",
    "    end\n",
    "  end\n",
    "  X[n] = B[l[n]] / A[l[n], n]\n",
    "  for i in n-1 : -1 : 1\n",
    "    sum = B[l[i]]\n",
    "    for j in i + 1 : n\n",
    "      sum -= A[l[i], j] * X[j]\n",
    "    end\n",
    "    X[i] = sum / A[l[i], i]\n",
    "  end\n",
    "  X\n",
    "end\n",
    "\n",
    "end # Gauss\n"
   ]
  },
  {
   "cell_type": "code",
   "execution_count": 11,
   "metadata": {
    "collapsed": false
   },
   "outputs": [
    {
     "data": {
      "text/plain": [
       "2-element Array{Float64,1}:\n",
       " -2.0\n",
       "  2.5"
      ]
     },
     "execution_count": 11,
     "metadata": {},
     "output_type": "execute_result"
    }
   ],
   "source": [
    "Gauss.gauss!([1.0 2.0; 3.0 4.0], [3.0, 4.0])"
   ]
  },
  {
   "cell_type": "code",
   "execution_count": 10,
   "metadata": {
    "collapsed": false
   },
   "outputs": [
    {
     "name": "stderr",
     "output_type": "stream",
     "text": [
      "WARNING: replacing module Examples\n"
     ]
    },
    {
     "data": {
      "text/plain": [
       "Examples"
      ]
     },
     "execution_count": 10,
     "metadata": {},
     "output_type": "execute_result"
    }
   ],
   "source": [
    "include(\"examples.jl\")"
   ]
  },
  {
   "cell_type": "code",
   "execution_count": 8,
   "metadata": {
    "collapsed": false
   },
   "outputs": [
    {
     "name": "stdout",
     "output_type": "stream",
     "text": [
      "Iteration\t|F(X)|\t\tϵ\n",
      "0\t\t2.308679e+01\t5.884301e+00\n",
      "1\t\t7.215002e+01\t3.675183e-01\n",
      "2\t\t1.347658e+01\t1.725992e-01\n",
      "3\t\t1.263553e+00\t2.592261e-02\n",
      "4\t\t2.271418e-02\t5.889474e-04\n",
      "5\t\t1.219716e-05\t3.413509e-07\n",
      "6\t\t4.119923e-12\t1.158651e-13\n",
      "7\t\t8.881784e-16\t3.663005e-17\n",
      "Final approximation:\n",
      "[ 2.514e+00 4.322e+00 ]\n"
     ]
    }
   ],
   "source": [
    "F, J, X = Examples.set_1()\n",
    "Newton.newton(F, J, X, log = true)"
   ]
  },
  {
   "cell_type": "code",
   "execution_count": 11,
   "metadata": {
    "collapsed": false
   },
   "outputs": [
    {
     "name": "stdout",
     "output_type": "stream",
     "text": [
      "Iteration\t|F(X)|\t\tϵ\n",
      "0\t\t1.562500e+00\t1.076430e+00\n",
      "1\t\t1.456226e+00\t2.001541e-01\n",
      "2\t\t1.548954e-01\t3.428260e-02\n",
      "3\t\t3.007281e-03\t7.209369e-04\n",
      "4\t\t1.250887e-06\t3.004528e-07\n",
      "5\t\t2.167760e-13\t5.211241e-14\n",
      "6\t\t1.110223e-16\t5.551115e-17\n",
      "Final approximation:\n",
      "[ 1.000e+00 -7.333e-17 -1.000e+00 ]\n"
     ]
    }
   ],
   "source": [
    "F, J, X = Examples.set_2()\n",
    "Newton.newton(F, J, X, log = true)"
   ]
  },
  {
   "cell_type": "code",
   "execution_count": 13,
   "metadata": {
    "collapsed": false
   },
   "outputs": [
    {
     "name": "stdout",
     "output_type": "stream",
     "text": [
      "Iteration\t|F(X)|\t\tϵ\n",
      "0\t\t1.732051e+00\t5.927076e-01\n",
      "1\t\t7.281670e-01\t7.379226e-02\n",
      "2\t\t3.597223e-02\t4.400197e-03\n",
      "3\t\t1.253933e-04\t1.534432e-05\n",
      "4\t\t1.784318e-09\t2.150888e-10\n",
      "5\t\t6.661338e-16\t7.605550e-17\n",
      "Final approximation:\n",
      "[ 1.681e+00 1.420e+00 1.178e+00 ]\n"
     ]
    }
   ],
   "source": [
    "F, J, X = Examples.set_3()\n",
    "Newton.newton(F, J, X, log = true)"
   ]
  },
  {
   "cell_type": "code",
   "execution_count": 17,
   "metadata": {
    "collapsed": false,
    "scrolled": true
   },
   "outputs": [
    {
     "name": "stdout",
     "output_type": "stream",
     "text": [
      "X = [0.0,0.0,0.0,0.0,0.0,0.0,0.0,0.0]\n",
      "Iteration\t|F(X)|\t\tϵ\n",
      "0\t\t2.000000e+00\tInf\n",
      "1\t\t2.000000e+01\t1.000000e+00\n",
      "2\t\t0.000000e+00\t0.000000e+00\n",
      "Final approximation:\n",
      "[ 1.000e+00 1.000e+00 1.000e+00 1.000e+00 1.000e+00 1.000e+00 1.000e+00 1.000e+00 ]\n"
     ]
    }
   ],
   "source": [
    "F, J, X = Examples.generalized_rosenbrock(8)\n",
    "@show X\n",
    "Newton.newton(F, J, X, log = true)"
   ]
  }
 ],
 "metadata": {
  "kernelspec": {
   "display_name": "Julia 0.5.0",
   "language": "julia",
   "name": "julia-0.5"
  },
  "language_info": {
   "file_extension": ".jl",
   "mimetype": "application/julia",
   "name": "julia",
   "version": "0.5.0"
  }
 },
 "nbformat": 4,
 "nbformat_minor": 0
}
