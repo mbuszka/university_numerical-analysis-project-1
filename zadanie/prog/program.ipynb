{
 "cells": [
  {
   "cell_type": "code",
   "execution_count": null,
   "metadata": {
    "collapsed": true
   },
   "outputs": [],
   "source": [
    "# Pracownia z analizy numerycznej, zadanie P1.16"
   ]
  },
  {
   "cell_type": "markdown",
   "metadata": {},
   "source": [
    "## Metoda Newtona"
   ]
  },
  {
   "cell_type": "code",
   "execution_count": 102,
   "metadata": {
    "collapsed": false
   },
   "outputs": [
    {
     "name": "stderr",
     "output_type": "stream",
     "text": [
      "WARNING: Method definition print_array(Any) in module Main at /home/mbuszka/workspace/Numerical-Analysis/project-1/zadanie/prog/utils.jl:2 overwritten at /home/mbuszka/workspace/Numerical-Analysis/project-1/zadanie/prog/utils.jl:2.\n",
      "WARNING: Method definition gauss_naive!(Any, Any) in module Main at /home/mbuszka/workspace/Numerical-Analysis/project-1/zadanie/prog/gauss.jl:8 overwritten at /home/mbuszka/workspace/Numerical-Analysis/project-1/zadanie/prog/gauss.jl:8.\n",
      "WARNING: replacing docs for 'gauss_naive! :: Tuple{Any,Any}' in module 'Main'.\n",
      "WARNING: Method definition gauss!(Any, Any) in module Main at /home/mbuszka/workspace/Numerical-Analysis/project-1/zadanie/prog/gauss.jl:44 overwritten at /home/mbuszka/workspace/Numerical-Analysis/project-1/zadanie/prog/gauss.jl:44.\n",
      "WARNING: Method definition gauss!(Any, Any, Any) in module Main at /home/mbuszka/workspace/Numerical-Analysis/project-1/zadanie/prog/gauss.jl:44 overwritten at /home/mbuszka/workspace/Numerical-Analysis/project-1/zadanie/prog/gauss.jl:44.\n",
      "WARNING: replacing docs for 'gauss! :: Union{Tuple{Any,Any,Any},Tuple{Any,Any}}' in module 'Main'.\n",
      "WARNING: Method definition gauss_eliminate!(Any, Any) in module Main at /home/mbuszka/workspace/Numerical-Analysis/project-1/zadanie/prog/gauss.jl:63 overwritten at /home/mbuszka/workspace/Numerical-Analysis/project-1/zadanie/prog/gauss.jl:63.\n",
      "WARNING: replacing docs for 'gauss_eliminate! :: Tuple{Any,Any}' in module 'Main'.\n",
      "WARNING: Method definition gauss_substitute!(Any, Any, Any, Any) in module Main at /home/mbuszka/workspace/Numerical-Analysis/project-1/zadanie/prog/gauss.jl:101 overwritten at /home/mbuszka/workspace/Numerical-Analysis/project-1/zadanie/prog/gauss.jl:101.\n",
      "WARNING: replacing docs for 'gauss_substitute! :: Tuple{Any,Any,Any,Any}' in module 'Main'.\n",
      "WARNING: Method definition newton(Any, Any, Any) in module Main at /home/mbuszka/workspace/Numerical-Analysis/project-1/zadanie/prog/newton.jl:11 overwritten at /home/mbuszka/workspace/Numerical-Analysis/project-1/zadanie/prog/newton.jl:11.\n",
      "WARNING: Method definition #newton(Array{Any, 1}, Main.#newton, Any, Any, Any) in module Main overwritten.\n",
      "WARNING: replacing module Examples\n",
      "WARNING: Method definition show_naive_fail() in module Main at /home/mbuszka/workspace/Numerical-Analysis/project-1/zadanie/prog/program.jl:5 overwritten at /home/mbuszka/workspace/Numerical-Analysis/project-1/zadanie/prog/program.jl:5.\n",
      "WARNING: Method definition show_naive_fail(Any) in module Main at /home/mbuszka/workspace/Numerical-Analysis/project-1/zadanie/prog/program.jl:5 overwritten at /home/mbuszka/workspace/Numerical-Analysis/project-1/zadanie/prog/program.jl:5.\n",
      "WARNING: Method definition show_naive_fail(Any, Any) in module Main at /home/mbuszka/workspace/Numerical-Analysis/project-1/zadanie/prog/program.jl:5 overwritten at /home/mbuszka/workspace/Numerical-Analysis/project-1/zadanie/prog/program.jl:5.\n",
      "WARNING: Method definition compare_gauss() in module Main at /home/mbuszka/workspace/Numerical-Analysis/project-1/zadanie/prog/program.jl:24 overwritten at /home/mbuszka/workspace/Numerical-Analysis/project-1/zadanie/prog/program.jl:24.\n",
      "WARNING: Method definition compare_gauss(Any) in module Main at /home/mbuszka/workspace/Numerical-Analysis/project-1/zadanie/prog/program.jl:24 overwritten at /home/mbuszka/workspace/Numerical-Analysis/project-1/zadanie/prog/program.jl:24.\n",
      "WARNING: Method definition show_set(Any) in module Main at /home/mbuszka/workspace/Numerical-Analysis/project-1/zadanie/prog/program.jl:32 overwritten at /home/mbuszka/workspace/Numerical-Analysis/project-1/zadanie/prog/program.jl:32.\n",
      "WARNING: Method definition show_set(Any, Any) in module Main at /home/mbuszka/workspace/Numerical-Analysis/project-1/zadanie/prog/program.jl:32 overwritten at /home/mbuszka/workspace/Numerical-Analysis/project-1/zadanie/prog/program.jl:32.\n",
      "WARNING: Method definition run_set(Any) in module Main at /home/mbuszka/workspace/Numerical-Analysis/project-1/zadanie/prog/program.jl:55 overwritten at /home/mbuszka/workspace/Numerical-Analysis/project-1/zadanie/prog/program.jl:55.\n",
      "WARNING: Method definition run_set(Any, Any) in module Main at /home/mbuszka/workspace/Numerical-Analysis/project-1/zadanie/prog/program.jl:55 overwritten at /home/mbuszka/workspace/Numerical-Analysis/project-1/zadanie/prog/program.jl:55.\n",
      "WARNING: Method definition dispatch_example(Any, Any, Any) in module Main at /home/mbuszka/workspace/Numerical-Analysis/project-1/zadanie/prog/program.jl:83 overwritten at /home/mbuszka/workspace/Numerical-Analysis/project-1/zadanie/prog/program.jl:83.\n",
      "WARNING: Method definition dispatch_example(Any, Any, Any, Any) in module Main at /home/mbuszka/workspace/Numerical-Analysis/project-1/zadanie/prog/program.jl:83 overwritten at /home/mbuszka/workspace/Numerical-Analysis/project-1/zadanie/prog/program.jl:83.\n",
      "WARNING: Method definition calculate_accuracy(Any) in module Main at /home/mbuszka/workspace/Numerical-Analysis/project-1/zadanie/prog/program.jl:96 overwritten at /home/mbuszka/workspace/Numerical-Analysis/project-1/zadanie/prog/program.jl:96.\n",
      "WARNING: Method definition show_generated(Any) in module Main at /home/mbuszka/workspace/Numerical-Analysis/project-1/zadanie/prog/program.jl:106 overwritten at /home/mbuszka/workspace/Numerical-Analysis/project-1/zadanie/prog/program.jl:106.\n",
      "WARNING: Method definition #show_generated(Array{Any, 1}, Main.#show_generated, Any) in module Main overwritten.\n",
      "WARNING: Method definition convergence_analysis(Any, Any) in module Main at /home/mbuszka/workspace/Numerical-Analysis/project-1/zadanie/prog/program.jl:119 overwritten at /home/mbuszka/workspace/Numerical-Analysis/project-1/zadanie/prog/program.jl:123.\n"
     ]
    },
    {
     "data": {
      "text/plain": [
       "convergence_analysis (generic function with 3 methods)"
      ]
     },
     "execution_count": 102,
     "metadata": {},
     "output_type": "execute_result"
    }
   ],
   "source": [
    "using PlotlyJS\n",
    "include(\"program.jl\")"
   ]
  },
  {
   "cell_type": "markdown",
   "metadata": {},
   "source": [
    "# Małe układy równań\n",
    "Zaprezentowane zostaną przebiegi metody Newtona dla przykładowych układów równań. Na końcu sekcji znajdują się wykresy porównujące zmianę błędu względnego szukanego rozwiązania oraz zmianę wartości funkcji dla wszystkich funkcji podanych poniżej"
   ]
  },
  {
   "cell_type": "markdown",
   "metadata": {},
   "source": [
    "### Przykład 1\n",
    "\\begin{equation*}\n",
    "F_1(x) = \n",
    "\\left(\\begin{matrix}\n",
    "\t(x_1)^2 + (x_2)^2 - 25 \\\\\n",
    "    (x_1)^2 - x_2 - 2\n",
    "\\end{matrix}\\right)\n",
    "\\end{equation*}"
   ]
  },
  {
   "cell_type": "code",
   "execution_count": 58,
   "metadata": {
    "collapsed": false
   },
   "outputs": [
    {
     "name": "stdout",
     "output_type": "stream",
     "text": [
      "Iteration\t||F(X)||\t\tϵ\n",
      "1\t\t7.215002e+01\t5.884301e+00\n",
      "2\t\t1.347658e+01\t3.675183e-01\n",
      "3\t\t1.263553e+00\t1.725992e-01\n",
      "4\t\t2.271418e-02\t2.592261e-02\n",
      "5\t\t1.219716e-05\t5.889474e-04\n",
      "6\t\t4.119923e-12\t3.413509e-07\n",
      "7\t\t8.881784e-16\t1.158651e-13\n",
      "\n",
      "Final approximation:\n",
      "[ 2.514e+00 4.322e+00 ]\n"
     ]
    },
    {
     "data": {
      "text/plain": [
       "scatter with fields mode, name, type, x, and y\n"
      ]
     },
     "execution_count": 58,
     "metadata": {},
     "output_type": "execute_result"
    }
   ],
   "source": [
    "iters, exs, efs = run_set(1, true)\n",
    "xtrace1 = scatter(; x=1:iters, y=-log10(exs), mode=\"lines+markers\", name=\"F₁\")\n",
    "ftrace1 = scatter(; x=1:iters, y=-log10(efs), mode=\"lines+markers\", name=\"F₁\")"
   ]
  },
  {
   "cell_type": "markdown",
   "metadata": {},
   "source": [
    "### Przykład 2\n",
    "\\begin{equation*}\n",
    "F_2(x) = \n",
    "\\left(\\begin{matrix}\n",
    "\tx_1 + x_2 + x_3 \\\\\n",
    "\t(x_1)^2 + (x_2)^2 + (x_3)^2 - 2 \\\\\n",
    "    x_1(x_2 + x_3) + 1\n",
    "\\end{matrix}\\right)\n",
    "\\end{equation*}"
   ]
  },
  {
   "cell_type": "code",
   "execution_count": 59,
   "metadata": {
    "collapsed": false
   },
   "outputs": [
    {
     "name": "stdout",
     "output_type": "stream",
     "text": [
      "Iteration\t||F(X)||\t\tϵ\n",
      "1\t\t1.456226e+00\t1.076430e+00\n",
      "2\t\t1.548954e-01\t2.001541e-01\n",
      "3\t\t3.007281e-03\t3.428260e-02\n",
      "4\t\t1.250887e-06\t7.209369e-04\n",
      "5\t\t2.167760e-13\t3.004528e-07\n",
      "6\t\t0.000000e+00\t5.211241e-14\n",
      "\n",
      "Final approximation:\n",
      "[ 1.000e+00 -2.812e-17 -1.000e+00 ]\n"
     ]
    },
    {
     "data": {
      "text/plain": [
       "scatter with fields mode, name, type, x, and y\n"
      ]
     },
     "execution_count": 59,
     "metadata": {},
     "output_type": "execute_result"
    }
   ],
   "source": [
    "iters, exs, efs = run_set(2, true)\n",
    "xtrace2 = scatter(; x=1:iters, y=-log10(exs), mode=\"lines+markers\", name=\"F₂\")\n",
    "ftrace2 = scatter(; x=1:iters, y=-log10(efs), mode=\"lines+markers\", name=\"F₂\")"
   ]
  },
  {
   "cell_type": "markdown",
   "metadata": {},
   "source": [
    "### Przykład 3\n",
    "\\begin{equation*}\n",
    "F_3(x) = \n",
    "\\left(\\begin{matrix}\n",
    "\tx_1 x_2 - (x_3)^2 - 1 \\\\\n",
    "\tx_1 x_2 x_3 + (x_2)^2 - (x_1)^2 - 2 \\\\\n",
    "    e^{x_1} + x_3 - e^{x_2} - 3\n",
    "\\end{matrix}\\right)\n",
    "\\end{equation*}"
   ]
  },
  {
   "cell_type": "code",
   "execution_count": 60,
   "metadata": {
    "collapsed": false
   },
   "outputs": [
    {
     "name": "stdout",
     "output_type": "stream",
     "text": [
      "Iteration\t||F(X)||\t\tϵ\n",
      "1\t\t7.281670e-01\t5.927076e-01\n",
      "2\t\t3.597223e-02\t7.379226e-02\n",
      "3\t\t1.253933e-04\t4.400197e-03\n",
      "4\t\t1.784318e-09\t1.534432e-05\n",
      "5\t\t6.661338e-16\t2.150888e-10\n",
      "6\t\t7.691851e-16\t7.605550e-17\n",
      "\n",
      "Final approximation:\n",
      "[ 1.681e+00 1.420e+00 1.178e+00 ]\n"
     ]
    },
    {
     "data": {
      "text/plain": [
       "scatter with fields mode, name, type, x, and y\n"
      ]
     },
     "execution_count": 60,
     "metadata": {},
     "output_type": "execute_result"
    }
   ],
   "source": [
    "iters, exs, efs = run_set(3, true)\n",
    "xtrace3 = scatter(; x=1:iters, y=-log10(exs), mode=\"lines+markers\", name=\"F₃\")\n",
    "ftrace3 = scatter(; x=1:iters, y=-log10(efs), mode=\"lines+markers\", name=\"F₃\")"
   ]
  },
  {
   "cell_type": "markdown",
   "metadata": {},
   "source": [
    "### Przykład 4\n",
    "\\begin{equation*}\n",
    "F_4(x) = \n",
    "\\left(\\begin{matrix}\n",
    "\tf_1(x) &= (x_1)^2 \\\\\n",
    "\tf_2(x) &= (x_2)^2 \n",
    "\\end{matrix}\\right)\n",
    "\\end{equation*}"
   ]
  },
  {
   "cell_type": "code",
   "execution_count": 61,
   "metadata": {
    "collapsed": false
   },
   "outputs": [
    {
     "name": "stdout",
     "output_type": "stream",
     "text": [
      "Iteration\t||F(X)||\t\tϵ\n",
      "1\t\t3.535534e-01\t5.000000e-01\n",
      "2\t\t8.838835e-02\t5.000000e-01\n",
      "3\t\t2.209709e-02\t5.000000e-01\n",
      "4\t\t5.524272e-03\t5.000000e-01\n",
      "5\t\t1.381068e-03\t5.000000e-01\n",
      "6\t\t3.452670e-04\t5.000000e-01\n",
      "7\t\t8.631675e-05\t5.000000e-01\n",
      "8\t\t2.157919e-05\t5.000000e-01\n",
      "9\t\t5.394797e-06\t5.000000e-01\n",
      "10\t\t1.348699e-06\t5.000000e-01\n",
      "11\t\t3.371748e-07\t5.000000e-01\n",
      "12\t\t8.429370e-08\t5.000000e-01\n",
      "13\t\t2.107342e-08\t5.000000e-01\n",
      "14\t\t5.268356e-09\t5.000000e-01\n",
      "15\t\t1.317089e-09\t5.000000e-01\n",
      "16\t\t3.292723e-10\t5.000000e-01\n",
      "17\t\t8.231806e-11\t5.000000e-01\n",
      "18\t\t2.057952e-11\t5.000000e-01\n",
      "19\t\t5.144879e-12\t5.000000e-01\n",
      "20\t\t1.286220e-12\t5.000000e-01\n",
      "\n",
      "Final approximation:\n",
      "[ 9.537e-07 9.537e-07 ]\n"
     ]
    },
    {
     "data": {
      "text/plain": [
       "scatter with fields mode, name, type, x, and y\n"
      ]
     },
     "execution_count": 61,
     "metadata": {},
     "output_type": "execute_result"
    }
   ],
   "source": [
    "iters, exs, efs = run_set(4, true)\n",
    "xtrace4 = scatter(; x=1:iters, y=-log10(exs), mode=\"lines+markers\", name=\"F₄\")\n",
    "ftrace4 = scatter(; x=1:iters, y=-log10(efs), mode=\"lines+markers\", name=\"F₄\")"
   ]
  },
  {
   "cell_type": "markdown",
   "metadata": {},
   "source": [
    "### Przykład 5\n",
    "\\begin{equation*}\n",
    "F_5(x) = \n",
    "\\left(\\begin{matrix}\n",
    "\t(x_1)^3 + 7(x_2)^2 - 7 \\\\\n",
    "\t(x_1)^2 + (x_2)^2 - 1\n",
    "\\end{matrix}\\right)\n",
    "\\end{equation*}"
   ]
  },
  {
   "cell_type": "code",
   "execution_count": 62,
   "metadata": {
    "collapsed": false
   },
   "outputs": [
    {
     "name": "stdout",
     "output_type": "stream",
     "text": [
      "Iteration\t||F(X)||\t\tϵ\n",
      "1\t\t2.154066e+01\t1.264911e+00\n",
      "2\t\t1.532314e+01\t8.820599e-01\n",
      "3\t\t3.678398e+00\t4.438798e-01\n",
      "4\t\t2.967144e-01\t3.083473e-01\n",
      "5\t\t1.038375e-01\t2.325736e-01\n",
      "6\t\t1.451232e-02\t1.094101e-01\n",
      "7\t\t2.973289e-03\t5.328404e-02\n",
      "8\t\t6.908786e-04\t2.613764e-02\n",
      "9\t\t1.677489e-04\t1.293397e-02\n",
      "10\t\t4.140530e-05\t6.432501e-03\n",
      "11\t\t1.029012e-05\t3.207550e-03\n",
      "12\t\t2.565201e-06\t1.601591e-03\n",
      "13\t\t6.404040e-07\t8.002482e-04\n",
      "14\t\t1.599902e-07\t3.999872e-04\n",
      "15\t\t3.998377e-08\t1.999594e-04\n",
      "16\t\t9.994226e-09\t9.997112e-05\n",
      "17\t\t2.498342e-09\t4.998342e-05\n",
      "18\t\t6.245589e-10\t2.499117e-05\n",
      "19\t\t1.561364e-10\t1.249545e-05\n",
      "20\t\t3.903389e-11\t6.247696e-06\n",
      "\n",
      "Final approximation:\n",
      "[ 6.248e-06 1.000e+00 ]\n"
     ]
    },
    {
     "data": {
      "text/plain": [
       "scatter with fields mode, name, type, x, and y\n"
      ]
     },
     "execution_count": 62,
     "metadata": {},
     "output_type": "execute_result"
    }
   ],
   "source": [
    "iters, exs, efs = run_set(5, true)\n",
    "xtrace5 = scatter(; x=1:iters, y=-log10(exs), mode=\"lines+markers\", name=\"F₅\")\n",
    "ftrace5 = scatter(; x=1:iters, y=-log10(efs), mode=\"lines+markers\", name=\"F₅\")"
   ]
  },
  {
   "cell_type": "markdown",
   "metadata": {},
   "source": [
    "### Przykład 6\n",
    "\\begin{equation*}\n",
    "F_6(x) = \n",
    "\\left(\\begin{matrix}\n",
    "    (x_1)^2 + \\sin x_1 \\cos x_2 \\\\\n",
    "    (x_2)^2 + \\cos x_1 \\sin x_2\n",
    "\\end{matrix}\\right)\n",
    "\\end{equation*}"
   ]
  },
  {
   "cell_type": "code",
   "execution_count": 63,
   "metadata": {
    "collapsed": false,
    "scrolled": true
   },
   "outputs": [
    {
     "name": "stdout",
     "output_type": "stream",
     "text": [
      "Iteration\t||F(X)||\t\tϵ\n",
      "1\t\t5.919885e-01\t4.450498e-01\n",
      "2\t\t3.690710e-02\t1.809200e-01\n",
      "3\t\t2.024868e-04\t1.155687e-02\n",
      "4\t\t5.365272e-09\t5.705493e-05\n",
      "5\t\t0.000000e+00\t1.665995e-09\n",
      "6\t\t0.000000e+00\t0.000000e+00\n",
      "\n",
      "Final approximation:\n",
      "[ 1.000e+00 1.000e+00 ]\n"
     ]
    },
    {
     "data": {
      "text/plain": [
       "scatter with fields mode, name, type, x, and y\n"
      ]
     },
     "execution_count": 63,
     "metadata": {},
     "output_type": "execute_result"
    }
   ],
   "source": [
    "iters, exs, efs = run_set(6, true)\n",
    "xtrace6 = scatter(; x=1:iters, y=-log10(exs), mode=\"lines+markers\", name=\"F₆\")\n",
    "ftrace6 = scatter(; x=1:iters, y=-log10(efs), mode=\"lines+markers\", name=\"F₆\")"
   ]
  },
  {
   "cell_type": "code",
   "execution_count": 64,
   "metadata": {
    "collapsed": false
   },
   "outputs": [
    {
     "data": {
      "application/vnd.plotly.v1+json": "{\"layout\":{\"yaxis\":{\"title\":\"Wskaźnik dokładności\"},\"xaxis\":{\"title\":\"Iteracja\"},\"title\":\"Dokładność względna przybliżenia\",\"margin\":{\"r\":50,\"l\":50,\"b\":50,\"t\":60}},\"data\":[{\"y\":[-0.7696948910362524,0.43472101796787177,0.7629611002998584,1.5863212032850673,3.229923454356194,6.466798884990352,12.936047187348258],\"name\":\"F₁\",\"type\":\"scatter\",\"x\":[1,2,3,4,5,6,7],\"mode\":\"lines+markers\"},{\"y\":[-0.03198568721359873,0.698635413840446,1.4649262842397412,3.1421027210482744,6.522223805697629,13.283058866373155],\"name\":\"F₂\",\"type\":\"scatter\",\"x\":[1,2,3,4,5,6],\"mode\":\"lines+markers\"},{\"y\":[0.2271594810610639,1.1319891720039037,2.3565279021286516,4.814052456370723,9.66738221293406,16.118869384727432],\"name\":\"F₃\",\"type\":\"scatter\",\"x\":[1,2,3,4,5,6],\"mode\":\"lines+markers\"},{\"y\":[0.3010299956639812,0.3010299956639812,0.3010299956639812,0.3010299956639812,0.3010299956639812,0.3010299956639812,0.3010299956639812,0.3010299956639812,0.3010299956639812,0.3010299956639812,0.3010299956639812,0.3010299956639812,0.3010299956639812,0.3010299956639812,0.3010299956639812,0.3010299956639812,0.3010299956639812,0.3010299956639812,0.3010299956639812,0.3010299956639812],\"name\":\"F₄\",\"type\":\"scatter\",\"x\":[1,2,3,4,5,6,7,8,9,10,11,12,13,14,15,16,17,18,19,20],\"mode\":\"lines+markers\"},{\"y\":[-0.1020599913279624,0.05450190362173237,0.35273461217638574,0.5109598661251304,0.6334396732845541,0.9609423963925449,1.2734028922296106,1.5827336365735412,1.8882682490802438,2.1916201654027234,2.4938265952115137,2.7954484585415207,3.0967752747571815,3.397953899130778,3.6990582634864033,4.000125457593381,4.301174050712143,4.602213398289859,4.90324799189211,5.204280139811688],\"name\":\"F₅\",\"type\":\"scatter\",\"x\":[1,2,3,4,5,6,7,8,9,10,11,12,13,14,15,16,17,18,19,20],\"mode\":\"lines+markers\"},{\"y\":[0.35159136814724384,0.7425133170200551,1.9371599578678311,4.243706828651103,8.77832628745303,15.653559774527022],\"name\":\"F₆\",\"type\":\"scatter\",\"x\":[1,2,3,4,5,6],\"mode\":\"lines+markers\"}]}",
      "text/html": [
       "<div id=\"a6135aaf-7737-435d-8e50-5d2483f47323\" class=\"plotly-graph-div\"></div>\n",
       "\n",
       "<script>\n",
       "    window.PLOTLYENV=window.PLOTLYENV || {};\n",
       "    window.PLOTLYENV.BASE_URL=\"https://plot.ly\";\n",
       "    require(['plotly'], function(Plotly) {\n",
       "        Plotly.newPlot('a6135aaf-7737-435d-8e50-5d2483f47323', [{\"y\":[-0.7696948910362524,0.43472101796787177,0.7629611002998584,1.5863212032850673,3.229923454356194,6.466798884990352,12.936047187348258],\"name\":\"F₁\",\"type\":\"scatter\",\"x\":[1,2,3,4,5,6,7],\"mode\":\"lines+markers\"},{\"y\":[-0.03198568721359873,0.698635413840446,1.4649262842397412,3.1421027210482744,6.522223805697629,13.283058866373155],\"name\":\"F₂\",\"type\":\"scatter\",\"x\":[1,2,3,4,5,6],\"mode\":\"lines+markers\"},{\"y\":[0.2271594810610639,1.1319891720039037,2.3565279021286516,4.814052456370723,9.66738221293406,16.118869384727432],\"name\":\"F₃\",\"type\":\"scatter\",\"x\":[1,2,3,4,5,6],\"mode\":\"lines+markers\"},{\"y\":[0.3010299956639812,0.3010299956639812,0.3010299956639812,0.3010299956639812,0.3010299956639812,0.3010299956639812,0.3010299956639812,0.3010299956639812,0.3010299956639812,0.3010299956639812,0.3010299956639812,0.3010299956639812,0.3010299956639812,0.3010299956639812,0.3010299956639812,0.3010299956639812,0.3010299956639812,0.3010299956639812,0.3010299956639812,0.3010299956639812],\"name\":\"F₄\",\"type\":\"scatter\",\"x\":[1,2,3,4,5,6,7,8,9,10,11,12,13,14,15,16,17,18,19,20],\"mode\":\"lines+markers\"},{\"y\":[-0.1020599913279624,0.05450190362173237,0.35273461217638574,0.5109598661251304,0.6334396732845541,0.9609423963925449,1.2734028922296106,1.5827336365735412,1.8882682490802438,2.1916201654027234,2.4938265952115137,2.7954484585415207,3.0967752747571815,3.397953899130778,3.6990582634864033,4.000125457593381,4.301174050712143,4.602213398289859,4.90324799189211,5.204280139811688],\"name\":\"F₅\",\"type\":\"scatter\",\"x\":[1,2,3,4,5,6,7,8,9,10,11,12,13,14,15,16,17,18,19,20],\"mode\":\"lines+markers\"},{\"y\":[0.35159136814724384,0.7425133170200551,1.9371599578678311,4.243706828651103,8.77832628745303,15.653559774527022],\"name\":\"F₆\",\"type\":\"scatter\",\"x\":[1,2,3,4,5,6],\"mode\":\"lines+markers\"}],\n",
       "               {\"yaxis\":{\"title\":\"Wskaźnik dokładności\"},\"xaxis\":{\"title\":\"Iteracja\"},\"title\":\"Dokładność względna przybliżenia\",\"margin\":{\"r\":50,\"l\":50,\"b\":50,\"t\":60}}, {showLink: false});\n",
       "\n",
       "    });\n",
       " </script>\n"
      ]
     },
     "execution_count": 64,
     "metadata": {},
     "output_type": "execute_result"
    }
   ],
   "source": [
    "layout = Layout(;title=\"Dokładność względna przybliżenia\", yaxis_title=\"Wskaźnik dokładności\", xaxis_title=\"Iteracja\")\n",
    "plot([xtrace1, xtrace2, xtrace3, xtrace4, xtrace5, xtrace6], layout)"
   ]
  },
  {
   "cell_type": "code",
   "execution_count": 65,
   "metadata": {
    "collapsed": false
   },
   "outputs": [
    {
     "data": {
      "application/vnd.plotly.v1+json": "{\"layout\":{\"yaxis\":{\"title\":\"Wskaźnik dokładności\"},\"xaxis\":{\"title\":\"Iteracja\"},\"title\":\"Norma wartości funkcji\",\"margin\":{\"r\":50,\"l\":50,\"b\":50,\"t\":60}},\"data\":[{\"y\":[-1.8582364397144417,-1.129579840316782,-0.10159343693202458,1.6437029910423864,4.913741203982181,11.38511094165539,15.05149978319906],\"name\":\"F₁\",\"type\":\"scatter\",\"x\":[1,2,3,4,5,6,7],\"mode\":\"lines+markers\"},{\"y\":[-0.1632287859559272,0.8099614951939349,2.521825938745605,5.902782086659772,12.663988717100551,15.653559774527022],\"name\":\"F₂\",\"type\":\"scatter\",\"x\":[1,2,3,4,5,6],\"mode\":\"lines+markers\"},{\"y\":[0.13776903618126593,1.444032605336082,3.901725666718051,8.748527730961566,15.176438519807359,15.113969151503209],\"name\":\"F₃\",\"type\":\"scatter\",\"x\":[1,2,3,4,5,6],\"mode\":\"lines+markers\"},{\"y\":[0.45154499349597177,1.0536049848239342,1.6556649761518965,2.257724967479859,2.8597849588078215,3.4618449501357835,4.063904941463746,4.6659649327917085,5.268024924119671,5.8700849154476336,6.472144906775596,7.074204898103558,7.67626488943152,8.278324880759483,8.880384872087445,9.482444863415408,10.08450485474337,10.686564846071333,11.288624837399295,11.890684828727258],\"name\":\"F₄\",\"type\":\"scatter\",\"x\":[1,2,3,4,5,6,7,8,9,10,11,12,13,14,15,16,17,18,19,20],\"mode\":\"lines+markers\"},{\"y\":[-1.3332589902774403,-1.1853477099352463,-0.5656587273594731,0.5276614132853895,0.983645836551621,1.8382631369000786,2.5267629149190953,3.1605982600724447,3.7753402127671594,4.382944081467724,4.987579493370806,5.590878539253387,6.193545961008731,6.795906651560223,7.398116236940109,8.000250842428958,8.602348139884205,9.204426630546,9.806495734201299,10.408558196410661],\"name\":\"F₅\",\"type\":\"scatter\",\"x\":[1,2,3,4,5,6,7,8,9,10,11,12,13,14,15,16,17,18,19,20],\"mode\":\"lines+markers\"},{\"y\":[0.22768670393203524,1.4328900479277937,3.6936032389930724,8.2704082453295,15.653559774527022,15.653559774527022],\"name\":\"F₆\",\"type\":\"scatter\",\"x\":[1,2,3,4,5,6],\"mode\":\"lines+markers\"}]}",
      "text/html": [
       "<div id=\"34095479-7591-4226-b14c-a53abc4a1ebb\" class=\"plotly-graph-div\"></div>\n",
       "\n",
       "<script>\n",
       "    window.PLOTLYENV=window.PLOTLYENV || {};\n",
       "    window.PLOTLYENV.BASE_URL=\"https://plot.ly\";\n",
       "    require(['plotly'], function(Plotly) {\n",
       "        Plotly.newPlot('34095479-7591-4226-b14c-a53abc4a1ebb', [{\"y\":[-1.8582364397144417,-1.129579840316782,-0.10159343693202458,1.6437029910423864,4.913741203982181,11.38511094165539,15.05149978319906],\"name\":\"F₁\",\"type\":\"scatter\",\"x\":[1,2,3,4,5,6,7],\"mode\":\"lines+markers\"},{\"y\":[-0.1632287859559272,0.8099614951939349,2.521825938745605,5.902782086659772,12.663988717100551,15.653559774527022],\"name\":\"F₂\",\"type\":\"scatter\",\"x\":[1,2,3,4,5,6],\"mode\":\"lines+markers\"},{\"y\":[0.13776903618126593,1.444032605336082,3.901725666718051,8.748527730961566,15.176438519807359,15.113969151503209],\"name\":\"F₃\",\"type\":\"scatter\",\"x\":[1,2,3,4,5,6],\"mode\":\"lines+markers\"},{\"y\":[0.45154499349597177,1.0536049848239342,1.6556649761518965,2.257724967479859,2.8597849588078215,3.4618449501357835,4.063904941463746,4.6659649327917085,5.268024924119671,5.8700849154476336,6.472144906775596,7.074204898103558,7.67626488943152,8.278324880759483,8.880384872087445,9.482444863415408,10.08450485474337,10.686564846071333,11.288624837399295,11.890684828727258],\"name\":\"F₄\",\"type\":\"scatter\",\"x\":[1,2,3,4,5,6,7,8,9,10,11,12,13,14,15,16,17,18,19,20],\"mode\":\"lines+markers\"},{\"y\":[-1.3332589902774403,-1.1853477099352463,-0.5656587273594731,0.5276614132853895,0.983645836551621,1.8382631369000786,2.5267629149190953,3.1605982600724447,3.7753402127671594,4.382944081467724,4.987579493370806,5.590878539253387,6.193545961008731,6.795906651560223,7.398116236940109,8.000250842428958,8.602348139884205,9.204426630546,9.806495734201299,10.408558196410661],\"name\":\"F₅\",\"type\":\"scatter\",\"x\":[1,2,3,4,5,6,7,8,9,10,11,12,13,14,15,16,17,18,19,20],\"mode\":\"lines+markers\"},{\"y\":[0.22768670393203524,1.4328900479277937,3.6936032389930724,8.2704082453295,15.653559774527022,15.653559774527022],\"name\":\"F₆\",\"type\":\"scatter\",\"x\":[1,2,3,4,5,6],\"mode\":\"lines+markers\"}],\n",
       "               {\"yaxis\":{\"title\":\"Wskaźnik dokładności\"},\"xaxis\":{\"title\":\"Iteracja\"},\"title\":\"Norma wartości funkcji\",\"margin\":{\"r\":50,\"l\":50,\"b\":50,\"t\":60}}, {showLink: false});\n",
       "\n",
       "    });\n",
       " </script>\n"
      ]
     },
     "execution_count": 65,
     "metadata": {},
     "output_type": "execute_result"
    }
   ],
   "source": [
    "layout = Layout(;title=\"Norma wartości funkcji\", yaxis_title=\"Wskaźnik dokładności\", xaxis_title=\"Iteracja\")\n",
    "plot([ftrace1, ftrace2, ftrace3, ftrace4, ftrace5, ftrace6], layout)"
   ]
  },
  {
   "cell_type": "markdown",
   "metadata": {},
   "source": [
    "# Duże układy równań\n",
    "Tutaj porównam wpływ wielkości układu równań oraz przybliżenia początkowego na zbieżność metody Newtona oraz ilość iteracji potrzebną do znalezienia pierwiastka. Dla każdego z czterech prototypów funkcji wykonuję obliczenia dla wielkości układu $ n $ od $ 2 $ do $ 20 $ i porównuję zbieżność oraz ilość iteracji dla przybliżeń początkowych\n",
    "$$\n",
    "x^{(0)} =\n",
    "\\left(\\begin{matrix}\n",
    "    x_1 \\\\\n",
    "    x_2 \\\\\n",
    "    \\vdots \\\\\n",
    "    x_n\n",
    "\\end{matrix}\\right), \\quad \\text{ dla } x_i \\in (1-\\delta, 1+\\delta)\n",
    "$$\n",
    "Dla parametru $ \\delta = 0.1, 0.2, 0.5, 1.0 $. Każda z funkcji rozważanych poniżej ma rozwiązanie \n",
    "$$ \\bar{x} =  \n",
    "\\left(\\begin{matrix}\n",
    "    1 \\\\\n",
    "    \\vdots \\\\\n",
    "    1\n",
    "\\end{matrix}\\right)\n",
    "$$"
   ]
  },
  {
   "cell_type": "markdown",
   "metadata": {},
   "source": [
    "### Układ 1\n",
    "\\begin{align*}\n",
    "F(x) &= \n",
    "\t\\left(\\begin{matrix}\n",
    "\t\tf_1(x) - f_1(\\bar{x}) \\\\ \n",
    "\t\tf_2(x) - f_2(\\bar{x}) \\\\ \n",
    "\t\t\\vdots\\\\ \n",
    "\t\tf_n(x) - f_n(\\bar{x})\n",
    "\t\\end{matrix}\\right), && \\text{dla} \\quad f_i(X) = a_{ik}X_iX_k, \\quad a_{ik} \\in (-10, 10)\n",
    "\\end{align*}"
   ]
  },
  {
   "cell_type": "code",
   "execution_count": 121,
   "metadata": {
    "collapsed": false
   },
   "outputs": [
    {
     "name": "stdout",
     "output_type": "stream",
     "text": [
      "Obliczam dla δ = 0.100\n",
      "Obliczam dla δ = 0.200\n",
      "Obliczam dla δ = 0.500\n",
      "Obliczam dla δ = 1.000\n"
     ]
    }
   ],
   "source": [
    "deltas = [0.1, 0.2, 0.5, 1.0]\n",
    "itraceF = Array{GenericTrace}(size(deltas, 1))\n",
    "dtraceF = Array{GenericTrace}(size(deltas, 1))\n",
    "for i in eachindex(deltas)\n",
    "    @printf \"Obliczam dla δ = %.3f\\n\" deltas[i]\n",
    "    iters, divgs = convergence_analysis(\"polynomial\", deltas[i], verbose = false)\n",
    "    itraceF[i] = scatter(; x=2:20, y=iters, mode=\"lines+markers\", name=\"δ = $(deltas[i])\")\n",
    "    dtraceF[i] = scatter(; x=2:20, y=divgs.*100, mode=\"lines+markers\", name=\"δ = $(deltas[i])\")\n",
    "end"
   ]
  },
  {
   "cell_type": "code",
   "execution_count": 125,
   "metadata": {
    "collapsed": false
   },
   "outputs": [
    {
     "data": {
      "application/vnd.plotly.v1+json": "{\"layout\":{\"yaxis\":{\"title\":\"Iteracje\"},\"xaxis\":{\"title\":\"Wielkość układu równań: n\"},\"title\":\"Iteracja\",\"margin\":{\"r\":50,\"l\":50,\"b\":50,\"t\":60}},\"data\":[{\"y\":[4.676229508196721,4.972945891783567,5.202404809619239,5.362,5.391173520561685,5.477,5.511511511511512,5.653653653653653,5.693,5.766599597585513,5.786934673366834,5.842369477911647,5.873620862587764,6.081243731193581,6.2542542542542545,6.213426853707415,6.329989969909729,6.323262839879154,6.379518072289157],\"name\":\"δ = 0.1\",\"type\":\"scatter\",\"x\":[2,3,4,5,6,7,8,9,10,11,12,13,14,15,16,17,18,19,20],\"mode\":\"lines+markers\"},{\"y\":[5.025303643724697,5.425851703406813,5.604020100502512,5.930861723446894,5.976884422110553,6.262839879154079,6.293762575452717,6.529707955689829,6.676084762865792,6.821105527638191,7.031440162271806,7.506048387096774,7.514256619144603,7.526584867075664,7.833503575076609,7.795031055900621,7.8535096642929805,8.345005149330587,8.466251298026998],\"name\":\"δ = 0.2\",\"type\":\"scatter\",\"x\":[2,3,4,5,6,7,8,9,10,11,12,13,14,15,16,17,18,19,20],\"mode\":\"lines+markers\"},{\"y\":[5.67342799188641,6.24217961654894,6.772036474164134,7.12,7.6819126819126815,8.164241164241163,8.57607555089192,9.123157894736842,9.840042372881356,10.423035522066739,11.678260869565218,12.669623059866963,13.195338512763596,15.79725085910653,15.914893617021276,17.158857142857144,18.737385321100916,19.820093457943926,22.790919952210274],\"name\":\"δ = 0.5\",\"type\":\"scatter\",\"x\":[2,3,4,5,6,7,8,9,10,11,12,13,14,15,16,17,18,19,20],\"mode\":\"lines+markers\"},{\"y\":[6.412551440329218,7.235908141962422,7.910828025477707,8.837777777777777,10.127868852459017,11.230504587155963,12.49482163406214,13.886769964243147,15.41437125748503,17.707196029776675,19.289245982694684,21.867007672634273,24.449141347424042,26.544502617801047,30.97289972899729,33.82836879432624,35.312849162011176,39.93952180028129,44.90783410138249],\"name\":\"δ = 1.0\",\"type\":\"scatter\",\"x\":[2,3,4,5,6,7,8,9,10,11,12,13,14,15,16,17,18,19,20],\"mode\":\"lines+markers\"}]}",
      "text/html": [
       "<div id=\"4ed52847-3754-425b-a701-ac3a0317b3c2\" class=\"plotly-graph-div\"></div>\n",
       "\n",
       "<script>\n",
       "    window.PLOTLYENV=window.PLOTLYENV || {};\n",
       "    window.PLOTLYENV.BASE_URL=\"https://plot.ly\";\n",
       "    require(['plotly'], function(Plotly) {\n",
       "        Plotly.newPlot('4ed52847-3754-425b-a701-ac3a0317b3c2', [{\"y\":[4.676229508196721,4.972945891783567,5.202404809619239,5.362,5.391173520561685,5.477,5.511511511511512,5.653653653653653,5.693,5.766599597585513,5.786934673366834,5.842369477911647,5.873620862587764,6.081243731193581,6.2542542542542545,6.213426853707415,6.329989969909729,6.323262839879154,6.379518072289157],\"name\":\"δ = 0.1\",\"type\":\"scatter\",\"x\":[2,3,4,5,6,7,8,9,10,11,12,13,14,15,16,17,18,19,20],\"mode\":\"lines+markers\"},{\"y\":[5.025303643724697,5.425851703406813,5.604020100502512,5.930861723446894,5.976884422110553,6.262839879154079,6.293762575452717,6.529707955689829,6.676084762865792,6.821105527638191,7.031440162271806,7.506048387096774,7.514256619144603,7.526584867075664,7.833503575076609,7.795031055900621,7.8535096642929805,8.345005149330587,8.466251298026998],\"name\":\"δ = 0.2\",\"type\":\"scatter\",\"x\":[2,3,4,5,6,7,8,9,10,11,12,13,14,15,16,17,18,19,20],\"mode\":\"lines+markers\"},{\"y\":[5.67342799188641,6.24217961654894,6.772036474164134,7.12,7.6819126819126815,8.164241164241163,8.57607555089192,9.123157894736842,9.840042372881356,10.423035522066739,11.678260869565218,12.669623059866963,13.195338512763596,15.79725085910653,15.914893617021276,17.158857142857144,18.737385321100916,19.820093457943926,22.790919952210274],\"name\":\"δ = 0.5\",\"type\":\"scatter\",\"x\":[2,3,4,5,6,7,8,9,10,11,12,13,14,15,16,17,18,19,20],\"mode\":\"lines+markers\"},{\"y\":[6.412551440329218,7.235908141962422,7.910828025477707,8.837777777777777,10.127868852459017,11.230504587155963,12.49482163406214,13.886769964243147,15.41437125748503,17.707196029776675,19.289245982694684,21.867007672634273,24.449141347424042,26.544502617801047,30.97289972899729,33.82836879432624,35.312849162011176,39.93952180028129,44.90783410138249],\"name\":\"δ = 1.0\",\"type\":\"scatter\",\"x\":[2,3,4,5,6,7,8,9,10,11,12,13,14,15,16,17,18,19,20],\"mode\":\"lines+markers\"}],\n",
       "               {\"yaxis\":{\"title\":\"Iteracje\"},\"xaxis\":{\"title\":\"Wielkość układu równań: n\"},\"title\":\"Iteracja\",\"margin\":{\"r\":50,\"l\":50,\"b\":50,\"t\":60}}, {showLink: false});\n",
       "\n",
       "    });\n",
       " </script>\n"
      ]
     },
     "execution_count": 125,
     "metadata": {},
     "output_type": "execute_result"
    }
   ],
   "source": [
    "ilayout = Layout(;title=\"Iteracja\", yaxis_title=\"Iteracje\", xaxis_title=\"Wielkość układu równań: n\")\n",
    "plot(itraceF, ilayout)"
   ]
  },
  {
   "cell_type": "code",
   "execution_count": 126,
   "metadata": {
    "collapsed": false
   },
   "outputs": [
    {
     "data": {
      "application/vnd.plotly.v1+json": "{\"layout\":{\"yaxis\":{\"title\":\"Przebiegi rozbieżne [%]\"},\"xaxis\":{\"title\":\"Wielkość układu równań: n\"},\"title\":\"Rozbieżność\",\"margin\":{\"r\":50,\"l\":50,\"b\":50,\"t\":60}},\"data\":[{\"y\":[2.4,0.2,0.2,0.0,0.3,0.0,0.1,0.1,0.0,0.6,0.5,0.4,0.3,0.3,0.1,0.2,0.3,0.7000000000000001,0.4],\"name\":\"δ = 0.1\",\"type\":\"scatter\",\"x\":[2,3,4,5,6,7,8,9,10,11,12,13,14,15,16,17,18,19,20],\"mode\":\"lines+markers\"},{\"y\":[1.2,0.2,0.5,0.2,0.5,0.7000000000000001,0.6,0.7000000000000001,0.8999999999999999,0.5,1.4000000000000001,0.8,1.7999999999999998,2.1999999999999997,2.1,3.4000000000000004,1.7000000000000002,2.9000000000000004,3.6999999999999997],\"name\":\"δ = 0.2\",\"type\":\"scatter\",\"x\":[2,3,4,5,6,7,8,9,10,11,12,13,14,15,16,17,18,19,20],\"mode\":\"lines+markers\"},{\"y\":[1.4000000000000001,0.8999999999999999,1.3,2.5,3.8,3.8,4.7,5.0,5.6000000000000005,7.1,8.0,9.8,9.9,12.7,10.7,12.5,12.8,14.399999999999999,16.3],\"name\":\"δ = 0.5\",\"type\":\"scatter\",\"x\":[2,3,4,5,6,7,8,9,10,11,12,13,14,15,16,17,18,19,20],\"mode\":\"lines+markers\"},{\"y\":[2.8000000000000003,4.2,5.800000000000001,10.0,8.5,12.8,13.100000000000001,16.1,16.5,19.400000000000002,19.1,21.8,24.3,23.599999999999998,26.200000000000003,29.5,28.4,28.9,34.9],\"name\":\"δ = 1.0\",\"type\":\"scatter\",\"x\":[2,3,4,5,6,7,8,9,10,11,12,13,14,15,16,17,18,19,20],\"mode\":\"lines+markers\"}]}",
      "text/html": [
       "<div id=\"1d6bdb2a-6900-403b-8a59-72300c816051\" class=\"plotly-graph-div\"></div>\n",
       "\n",
       "<script>\n",
       "    window.PLOTLYENV=window.PLOTLYENV || {};\n",
       "    window.PLOTLYENV.BASE_URL=\"https://plot.ly\";\n",
       "    require(['plotly'], function(Plotly) {\n",
       "        Plotly.newPlot('1d6bdb2a-6900-403b-8a59-72300c816051', [{\"y\":[2.4,0.2,0.2,0.0,0.3,0.0,0.1,0.1,0.0,0.6,0.5,0.4,0.3,0.3,0.1,0.2,0.3,0.7000000000000001,0.4],\"name\":\"δ = 0.1\",\"type\":\"scatter\",\"x\":[2,3,4,5,6,7,8,9,10,11,12,13,14,15,16,17,18,19,20],\"mode\":\"lines+markers\"},{\"y\":[1.2,0.2,0.5,0.2,0.5,0.7000000000000001,0.6,0.7000000000000001,0.8999999999999999,0.5,1.4000000000000001,0.8,1.7999999999999998,2.1999999999999997,2.1,3.4000000000000004,1.7000000000000002,2.9000000000000004,3.6999999999999997],\"name\":\"δ = 0.2\",\"type\":\"scatter\",\"x\":[2,3,4,5,6,7,8,9,10,11,12,13,14,15,16,17,18,19,20],\"mode\":\"lines+markers\"},{\"y\":[1.4000000000000001,0.8999999999999999,1.3,2.5,3.8,3.8,4.7,5.0,5.6000000000000005,7.1,8.0,9.8,9.9,12.7,10.7,12.5,12.8,14.399999999999999,16.3],\"name\":\"δ = 0.5\",\"type\":\"scatter\",\"x\":[2,3,4,5,6,7,8,9,10,11,12,13,14,15,16,17,18,19,20],\"mode\":\"lines+markers\"},{\"y\":[2.8000000000000003,4.2,5.800000000000001,10.0,8.5,12.8,13.100000000000001,16.1,16.5,19.400000000000002,19.1,21.8,24.3,23.599999999999998,26.200000000000003,29.5,28.4,28.9,34.9],\"name\":\"δ = 1.0\",\"type\":\"scatter\",\"x\":[2,3,4,5,6,7,8,9,10,11,12,13,14,15,16,17,18,19,20],\"mode\":\"lines+markers\"}],\n",
       "               {\"yaxis\":{\"title\":\"Przebiegi rozbieżne [%]\"},\"xaxis\":{\"title\":\"Wielkość układu równań: n\"},\"title\":\"Rozbieżność\",\"margin\":{\"r\":50,\"l\":50,\"b\":50,\"t\":60}}, {showLink: false});\n",
       "\n",
       "    });\n",
       " </script>\n"
      ]
     },
     "execution_count": 126,
     "metadata": {},
     "output_type": "execute_result"
    }
   ],
   "source": [
    "dlayout = Layout(;title=\"Rozbieżność\", yaxis_title=\"Przebiegi rozbieżne [%]\", xaxis_title=\"Wielkość układu równań: n\")\n",
    "plot(dtraceF, dlayout)"
   ]
  },
  {
   "cell_type": "markdown",
   "metadata": {},
   "source": [
    "### Układ 2\n",
    "\\begin{align*}\n",
    "G(x) &=\n",
    "\t\\left(\\begin{matrix}\n",
    "\tg_1(x) - g_1(\\bar{x}) \\\\ \n",
    "\tg_2(x) - g_2(\\bar{x}) \\\\ \n",
    "\t\\vdots\\\\ \n",
    "\tg_n(x) - g_n(\\bar{x})\n",
    "\\end{matrix}\\right), && \\text{dla} \\quad g_i(X) = (x_i)^2\\ + \\sum_{k=1, k\\neq i}^{n}\\sin{x_i}cos{x_k}\n",
    "\\end{align*}"
   ]
  },
  {
   "cell_type": "code",
   "execution_count": 122,
   "metadata": {
    "collapsed": false
   },
   "outputs": [
    {
     "name": "stdout",
     "output_type": "stream",
     "text": [
      "Obliczam dla δ = 0.100\n",
      "Obliczam dla δ = 0.200\n",
      "Obliczam dla δ = 0.500\n",
      "Obliczam dla δ = 1.000\n"
     ]
    }
   ],
   "source": [
    "itraceG = Array{GenericTrace}(size(deltas, 1))\n",
    "dtraceG = Array{GenericTrace}(size(deltas, 1))\n",
    "for i in eachindex(deltas)\n",
    "    @printf \"Obliczam dla δ = %.3f\\n\" deltas[i]\n",
    "    iters, divgs = convergence_analysis(\"sin_cos\", deltas[i], verbose = false)\n",
    "    itraceG[i] = scatter(; x=2:20, y=iters, mode=\"lines+markers\", name=\"δ = $(deltas[i])\")\n",
    "    dtraceG[i] = scatter(; x=2:20, y=divgs.*100, mode=\"lines+markers\", name=\"δ = $(deltas[i])\")\n",
    "end"
   ]
  },
  {
   "cell_type": "code",
   "execution_count": 127,
   "metadata": {
    "collapsed": false
   },
   "outputs": [
    {
     "data": {
      "application/vnd.plotly.v1+json": "{\"layout\":{\"yaxis\":{\"title\":\"Iteracje\"},\"xaxis\":{\"title\":\"Wielkość układu równań: n\"},\"title\":\"Iteracja\",\"margin\":{\"r\":50,\"l\":50,\"b\":50,\"t\":60}},\"data\":[{\"y\":[4.21,4.345,4.519,5.617,7.927,6.12,5.552,5.2,5.092,5.037,5.023,5.011,5.002,5.005,5.0,5.001,5.0,5.0,5.0],\"name\":\"δ = 0.1\",\"type\":\"scatter\",\"x\":[2,3,4,5,6,7,8,9,10,11,12,13,14,15,16,17,18,19,20],\"mode\":\"lines+markers\"},{\"y\":[4.714,4.812,5.029,6.415,8.816,6.993993993993994,6.345,6.128,6.05,5.999,5.965,5.947,5.911,5.915,5.889,5.872,5.878,5.852,5.863],\"name\":\"δ = 0.2\",\"type\":\"scatter\",\"x\":[2,3,4,5,6,7,8,9,10,11,12,13,14,15,16,17,18,19,20],\"mode\":\"lines+markers\"},{\"y\":[5.142,5.167,5.796593186372745,7.137,10.008,8.269,7.911911911911912,7.866,7.568568568568568,7.836836836836837,7.407035175879397,7.520080321285141,7.197791164658635,7.16,7.042042042042042,6.921,6.773,6.828,6.712],\"name\":\"δ = 0.5\",\"type\":\"scatter\",\"x\":[2,3,4,5,6,7,8,9,10,11,12,13,14,15,16,17,18,19,20],\"mode\":\"lines+markers\"},{\"y\":[6.004089979550102,6.383,8.358490566037736,8.42,10.715,9.706412825651302,10.245720040281974,10.88877755511022,11.267947421638018,11.718052738336715,11.739086294416243,10.020682523267839,9.871327254305978,10.246975806451612,9.73420260782347,10.371743486973948,9.436,9.19838056680162,8.764],\"name\":\"δ = 1.0\",\"type\":\"scatter\",\"x\":[2,3,4,5,6,7,8,9,10,11,12,13,14,15,16,17,18,19,20],\"mode\":\"lines+markers\"}]}",
      "text/html": [
       "<div id=\"32e0568c-8c01-4909-bd42-1d201aaeb081\" class=\"plotly-graph-div\"></div>\n",
       "\n",
       "<script>\n",
       "    window.PLOTLYENV=window.PLOTLYENV || {};\n",
       "    window.PLOTLYENV.BASE_URL=\"https://plot.ly\";\n",
       "    require(['plotly'], function(Plotly) {\n",
       "        Plotly.newPlot('32e0568c-8c01-4909-bd42-1d201aaeb081', [{\"y\":[4.21,4.345,4.519,5.617,7.927,6.12,5.552,5.2,5.092,5.037,5.023,5.011,5.002,5.005,5.0,5.001,5.0,5.0,5.0],\"name\":\"δ = 0.1\",\"type\":\"scatter\",\"x\":[2,3,4,5,6,7,8,9,10,11,12,13,14,15,16,17,18,19,20],\"mode\":\"lines+markers\"},{\"y\":[4.714,4.812,5.029,6.415,8.816,6.993993993993994,6.345,6.128,6.05,5.999,5.965,5.947,5.911,5.915,5.889,5.872,5.878,5.852,5.863],\"name\":\"δ = 0.2\",\"type\":\"scatter\",\"x\":[2,3,4,5,6,7,8,9,10,11,12,13,14,15,16,17,18,19,20],\"mode\":\"lines+markers\"},{\"y\":[5.142,5.167,5.796593186372745,7.137,10.008,8.269,7.911911911911912,7.866,7.568568568568568,7.836836836836837,7.407035175879397,7.520080321285141,7.197791164658635,7.16,7.042042042042042,6.921,6.773,6.828,6.712],\"name\":\"δ = 0.5\",\"type\":\"scatter\",\"x\":[2,3,4,5,6,7,8,9,10,11,12,13,14,15,16,17,18,19,20],\"mode\":\"lines+markers\"},{\"y\":[6.004089979550102,6.383,8.358490566037736,8.42,10.715,9.706412825651302,10.245720040281974,10.88877755511022,11.267947421638018,11.718052738336715,11.739086294416243,10.020682523267839,9.871327254305978,10.246975806451612,9.73420260782347,10.371743486973948,9.436,9.19838056680162,8.764],\"name\":\"δ = 1.0\",\"type\":\"scatter\",\"x\":[2,3,4,5,6,7,8,9,10,11,12,13,14,15,16,17,18,19,20],\"mode\":\"lines+markers\"}],\n",
       "               {\"yaxis\":{\"title\":\"Iteracje\"},\"xaxis\":{\"title\":\"Wielkość układu równań: n\"},\"title\":\"Iteracja\",\"margin\":{\"r\":50,\"l\":50,\"b\":50,\"t\":60}}, {showLink: false});\n",
       "\n",
       "    });\n",
       " </script>\n"
      ]
     },
     "execution_count": 127,
     "metadata": {},
     "output_type": "execute_result"
    }
   ],
   "source": [
    "plot(itraceG, ilayout)"
   ]
  },
  {
   "cell_type": "code",
   "execution_count": 128,
   "metadata": {
    "collapsed": false
   },
   "outputs": [
    {
     "data": {
      "application/vnd.plotly.v1+json": "{\"layout\":{\"yaxis\":{\"title\":\"Przebiegi rozbieżne [%]\"},\"xaxis\":{\"title\":\"Wielkość układu równań: n\"},\"title\":\"Rozbieżność\",\"margin\":{\"r\":50,\"l\":50,\"b\":50,\"t\":60}},\"data\":[{\"y\":[0.0,0.0,0.0,0.0,0.0,0.0,0.0,0.0,0.0,0.0,0.0,0.0,0.0,0.0,0.0,0.0,0.0,0.0,0.0],\"name\":\"δ = 0.1\",\"type\":\"scatter\",\"x\":[2,3,4,5,6,7,8,9,10,11,12,13,14,15,16,17,18,19,20],\"mode\":\"lines+markers\"},{\"y\":[0.0,0.0,0.0,0.0,0.0,0.1,0.0,0.0,0.0,0.0,0.0,0.0,0.0,0.0,0.0,0.0,0.0,0.0,0.0],\"name\":\"δ = 0.2\",\"type\":\"scatter\",\"x\":[2,3,4,5,6,7,8,9,10,11,12,13,14,15,16,17,18,19,20],\"mode\":\"lines+markers\"},{\"y\":[0.0,0.0,0.2,0.0,0.0,0.0,0.1,0.0,0.1,0.1,0.5,0.4,0.4,0.0,0.1,0.0,0.0,0.0,0.0],\"name\":\"δ = 0.5\",\"type\":\"scatter\",\"x\":[2,3,4,5,6,7,8,9,10,11,12,13,14,15,16,17,18,19,20],\"mode\":\"lines+markers\"},{\"y\":[2.1999999999999997,0.0,4.6,0.0,0.0,0.2,0.7000000000000001,0.2,1.0999999999999999,1.4000000000000001,1.5,3.3000000000000003,1.3,0.8,0.3,0.2,0.0,1.2,0.0],\"name\":\"δ = 1.0\",\"type\":\"scatter\",\"x\":[2,3,4,5,6,7,8,9,10,11,12,13,14,15,16,17,18,19,20],\"mode\":\"lines+markers\"}]}",
      "text/html": [
       "<div id=\"ca1a6049-fa11-4fcb-af19-90dc034db769\" class=\"plotly-graph-div\"></div>\n",
       "\n",
       "<script>\n",
       "    window.PLOTLYENV=window.PLOTLYENV || {};\n",
       "    window.PLOTLYENV.BASE_URL=\"https://plot.ly\";\n",
       "    require(['plotly'], function(Plotly) {\n",
       "        Plotly.newPlot('ca1a6049-fa11-4fcb-af19-90dc034db769', [{\"y\":[0.0,0.0,0.0,0.0,0.0,0.0,0.0,0.0,0.0,0.0,0.0,0.0,0.0,0.0,0.0,0.0,0.0,0.0,0.0],\"name\":\"δ = 0.1\",\"type\":\"scatter\",\"x\":[2,3,4,5,6,7,8,9,10,11,12,13,14,15,16,17,18,19,20],\"mode\":\"lines+markers\"},{\"y\":[0.0,0.0,0.0,0.0,0.0,0.1,0.0,0.0,0.0,0.0,0.0,0.0,0.0,0.0,0.0,0.0,0.0,0.0,0.0],\"name\":\"δ = 0.2\",\"type\":\"scatter\",\"x\":[2,3,4,5,6,7,8,9,10,11,12,13,14,15,16,17,18,19,20],\"mode\":\"lines+markers\"},{\"y\":[0.0,0.0,0.2,0.0,0.0,0.0,0.1,0.0,0.1,0.1,0.5,0.4,0.4,0.0,0.1,0.0,0.0,0.0,0.0],\"name\":\"δ = 0.5\",\"type\":\"scatter\",\"x\":[2,3,4,5,6,7,8,9,10,11,12,13,14,15,16,17,18,19,20],\"mode\":\"lines+markers\"},{\"y\":[2.1999999999999997,0.0,4.6,0.0,0.0,0.2,0.7000000000000001,0.2,1.0999999999999999,1.4000000000000001,1.5,3.3000000000000003,1.3,0.8,0.3,0.2,0.0,1.2,0.0],\"name\":\"δ = 1.0\",\"type\":\"scatter\",\"x\":[2,3,4,5,6,7,8,9,10,11,12,13,14,15,16,17,18,19,20],\"mode\":\"lines+markers\"}],\n",
       "               {\"yaxis\":{\"title\":\"Przebiegi rozbieżne [%]\"},\"xaxis\":{\"title\":\"Wielkość układu równań: n\"},\"title\":\"Rozbieżność\",\"margin\":{\"r\":50,\"l\":50,\"b\":50,\"t\":60}}, {showLink: false});\n",
       "\n",
       "    });\n",
       " </script>\n"
      ]
     },
     "execution_count": 128,
     "metadata": {},
     "output_type": "execute_result"
    }
   ],
   "source": [
    "plot(dtraceG, dlayout)"
   ]
  },
  {
   "cell_type": "markdown",
   "metadata": {},
   "source": [
    "### Układ 3\n",
    "\\begin{align*}\n",
    "H(x) &= \n",
    "\t\\left(\\begin{matrix}\n",
    "\th_1(x) - h_1(\\bar{x}) \\\\ \n",
    "\th_2(x) - h_2(\\bar{x}) \\\\ \n",
    "\t\\vdots\\\\ \n",
    "\th_n(x) - h_n(\\bar{x})\n",
    "\\end{matrix}\\right), && \\text{dla} \\quad h_i(X) = \n",
    "\t\t\\begin{cases}  \n",
    "\t\t\t\\sin{x_i}\\sin{x_{i+1}}\\cos{x_{i+2}}, & \\text{ gdy } i \\leq n-2 \\\\\n",
    "\t\t\t\\sin{x_{n-1}}\\sin{x_{n}}\\cos{x_{1}}, & \\text{ gdy } i = n - 1 \\\\\n",
    "\t\t\t\\sin{x_n}\\sin{x_{1}}\\cos{x_{2}}, & \\text{ gdy } i = n\n",
    "\t\t\\end{cases}\n",
    "\\end{align*}"
   ]
  },
  {
   "cell_type": "code",
   "execution_count": 123,
   "metadata": {
    "collapsed": false
   },
   "outputs": [
    {
     "name": "stdout",
     "output_type": "stream",
     "text": [
      "Obliczam dla δ = 0.100\n",
      "Obliczam dla δ = 0.200\n",
      "Obliczam dla δ = 0.500\n",
      "Obliczam dla δ = 1.000\n"
     ]
    }
   ],
   "source": [
    "itraceH = Array{GenericTrace}(size(deltas, 1))\n",
    "dtraceH = Array{GenericTrace}(size(deltas, 1))\n",
    "for i in eachindex(deltas)\n",
    "    @printf \"Obliczam dla δ = %.3f\\n\" deltas[i]\n",
    "    iters, divgs = convergence_analysis(\"sin_cos_2\", deltas[i], verbose = false)\n",
    "    itraceH[i] = scatter(; x=2:20, y=iters, mode=\"lines+markers\", name=\"δ = $(deltas[i])\")\n",
    "    dtraceH[i] = scatter(; x=2:20, y=divgs.*100, mode=\"lines+markers\", name=\"δ = $(deltas[i])\")\n",
    "end"
   ]
  },
  {
   "cell_type": "code",
   "execution_count": 129,
   "metadata": {
    "collapsed": false
   },
   "outputs": [
    {
     "data": {
      "application/vnd.plotly.v1+json": "{\"layout\":{\"yaxis\":{\"title\":\"Iteracje\"},\"xaxis\":{\"title\":\"Wielkość układu równań: n\"},\"title\":\"Iteracja\",\"margin\":{\"r\":50,\"l\":50,\"b\":50,\"t\":60}},\"data\":[{\"y\":[6.553643724696356,6.316265060240964,6.481891348088531,6.5135678391959795,6.463855421686747,6.449698189134809,6.4188376753507015,6.433867735470942,6.442326980942829,6.383383383383383,6.409,6.35678391959799,6.384769539078157,6.37937937937938,6.372,6.354062186559679,6.349,6.348697394789579,6.367],\"name\":\"δ = 0.1\",\"type\":\"scatter\",\"x\":[2,3,4,5,6,7,8,9,10,11,12,13,14,15,16,17,18,19,20],\"mode\":\"lines+markers\"},{\"y\":[7.073170731707317,6.960606060606061,7.302443991853361,7.609631147540983,7.724245577523413,7.639412997903564,7.8049040511727075,7.911827956989248,7.7293233082706765,7.687768240343348,7.80715059588299,8.036559139784947,7.863247863247863,7.7508161044613715,7.8443960826985855,7.837108953613808,7.812227074235808,7.890574214517876,7.9407327586206895],\"name\":\"δ = 0.2\",\"type\":\"scatter\",\"x\":[2,3,4,5,6,7,8,9,10,11,12,13,14,15,16,17,18,19,20],\"mode\":\"lines+markers\"},{\"y\":[8.029284164859002,8.03292181069959,8.61594963273872,9.10180995475113,9.347205707491081,9.860321384425216,9.774550484094053,9.893518518518519,10.298531810766722,10.844036697247706,10.390143737166325,10.479905437352246,10.797872340425531,10.744047619047619,10.586102719033233,10.064516129032258,10.405204460966543,9.919642857142858,10.586387434554974],\"name\":\"δ = 0.5\",\"type\":\"scatter\",\"x\":[2,3,4,5,6,7,8,9,10,11,12,13,14,15,16,17,18,19,20],\"mode\":\"lines+markers\"},{\"y\":[8.551181102362206,9.851421188630491,11.841874084919473,13.42970297029703,15.2837528604119,17.63030303030303,20.93243243243243,21.54189944134078,23.336,26.475609756097562,26.85,33.8936170212766,37.575,39.17857142857143,34.892857142857146,49.38095238095238,54.09090909090909,63.0,83.83333333333333],\"name\":\"δ = 1.0\",\"type\":\"scatter\",\"x\":[2,3,4,5,6,7,8,9,10,11,12,13,14,15,16,17,18,19,20],\"mode\":\"lines+markers\"}]}",
      "text/html": [
       "<div id=\"206be5f8-9f1b-43e4-9394-dd5ff8a308ef\" class=\"plotly-graph-div\"></div>\n",
       "\n",
       "<script>\n",
       "    window.PLOTLYENV=window.PLOTLYENV || {};\n",
       "    window.PLOTLYENV.BASE_URL=\"https://plot.ly\";\n",
       "    require(['plotly'], function(Plotly) {\n",
       "        Plotly.newPlot('206be5f8-9f1b-43e4-9394-dd5ff8a308ef', [{\"y\":[6.553643724696356,6.316265060240964,6.481891348088531,6.5135678391959795,6.463855421686747,6.449698189134809,6.4188376753507015,6.433867735470942,6.442326980942829,6.383383383383383,6.409,6.35678391959799,6.384769539078157,6.37937937937938,6.372,6.354062186559679,6.349,6.348697394789579,6.367],\"name\":\"δ = 0.1\",\"type\":\"scatter\",\"x\":[2,3,4,5,6,7,8,9,10,11,12,13,14,15,16,17,18,19,20],\"mode\":\"lines+markers\"},{\"y\":[7.073170731707317,6.960606060606061,7.302443991853361,7.609631147540983,7.724245577523413,7.639412997903564,7.8049040511727075,7.911827956989248,7.7293233082706765,7.687768240343348,7.80715059588299,8.036559139784947,7.863247863247863,7.7508161044613715,7.8443960826985855,7.837108953613808,7.812227074235808,7.890574214517876,7.9407327586206895],\"name\":\"δ = 0.2\",\"type\":\"scatter\",\"x\":[2,3,4,5,6,7,8,9,10,11,12,13,14,15,16,17,18,19,20],\"mode\":\"lines+markers\"},{\"y\":[8.029284164859002,8.03292181069959,8.61594963273872,9.10180995475113,9.347205707491081,9.860321384425216,9.774550484094053,9.893518518518519,10.298531810766722,10.844036697247706,10.390143737166325,10.479905437352246,10.797872340425531,10.744047619047619,10.586102719033233,10.064516129032258,10.405204460966543,9.919642857142858,10.586387434554974],\"name\":\"δ = 0.5\",\"type\":\"scatter\",\"x\":[2,3,4,5,6,7,8,9,10,11,12,13,14,15,16,17,18,19,20],\"mode\":\"lines+markers\"},{\"y\":[8.551181102362206,9.851421188630491,11.841874084919473,13.42970297029703,15.2837528604119,17.63030303030303,20.93243243243243,21.54189944134078,23.336,26.475609756097562,26.85,33.8936170212766,37.575,39.17857142857143,34.892857142857146,49.38095238095238,54.09090909090909,63.0,83.83333333333333],\"name\":\"δ = 1.0\",\"type\":\"scatter\",\"x\":[2,3,4,5,6,7,8,9,10,11,12,13,14,15,16,17,18,19,20],\"mode\":\"lines+markers\"}],\n",
       "               {\"yaxis\":{\"title\":\"Iteracje\"},\"xaxis\":{\"title\":\"Wielkość układu równań: n\"},\"title\":\"Iteracja\",\"margin\":{\"r\":50,\"l\":50,\"b\":50,\"t\":60}}, {showLink: false});\n",
       "\n",
       "    });\n",
       " </script>\n"
      ]
     },
     "execution_count": 129,
     "metadata": {},
     "output_type": "execute_result"
    }
   ],
   "source": [
    "plot(itraceH, ilayout)"
   ]
  },
  {
   "cell_type": "code",
   "execution_count": 130,
   "metadata": {
    "collapsed": false
   },
   "outputs": [
    {
     "data": {
      "application/vnd.plotly.v1+json": "{\"layout\":{\"yaxis\":{\"title\":\"Przebiegi rozbieżne [%]\"},\"xaxis\":{\"title\":\"Wielkość układu równań: n\"},\"title\":\"Rozbieżność\",\"margin\":{\"r\":50,\"l\":50,\"b\":50,\"t\":60}},\"data\":[{\"y\":[1.2,0.4,0.6,0.5,0.4,0.6,0.2,0.2,0.3,0.1,0.0,0.5,0.2,0.1,0.0,0.3,0.0,0.2,0.0],\"name\":\"δ = 0.1\",\"type\":\"scatter\",\"x\":[2,3,4,5,6,7,8,9,10,11,12,13,14,15,16,17,18,19,20],\"mode\":\"lines+markers\"},{\"y\":[5.7,1.0,1.7999999999999998,2.4,3.9,4.6,6.2,7.000000000000001,6.9,6.800000000000001,7.7,7.000000000000001,6.4,8.1,8.1,7.3,8.4,7.7,7.199999999999999],\"name\":\"δ = 0.2\",\"type\":\"scatter\",\"x\":[2,3,4,5,6,7,8,9,10,11,12,13,14,15,16,17,18,19,20],\"mode\":\"lines+markers\"},{\"y\":[7.8,2.8000000000000003,4.7,11.600000000000001,15.9,19.1,27.700000000000003,35.199999999999996,38.7,45.5,51.300000000000004,57.699999999999996,62.4,66.4,66.9,72.1,73.1,77.60000000000001,80.9],\"name\":\"δ = 0.5\",\"type\":\"scatter\",\"x\":[2,3,4,5,6,7,8,9,10,11,12,13,14,15,16,17,18,19,20],\"mode\":\"lines+markers\"},{\"y\":[36.5,22.6,31.7,49.5,56.3,67.0,77.8,82.1,87.5,91.8,92.0,95.3,96.0,97.2,97.2,97.89999999999999,98.9,99.4,99.4],\"name\":\"δ = 1.0\",\"type\":\"scatter\",\"x\":[2,3,4,5,6,7,8,9,10,11,12,13,14,15,16,17,18,19,20],\"mode\":\"lines+markers\"}]}",
      "text/html": [
       "<div id=\"850b208c-9153-41b5-a7c0-fd9940191259\" class=\"plotly-graph-div\"></div>\n",
       "\n",
       "<script>\n",
       "    window.PLOTLYENV=window.PLOTLYENV || {};\n",
       "    window.PLOTLYENV.BASE_URL=\"https://plot.ly\";\n",
       "    require(['plotly'], function(Plotly) {\n",
       "        Plotly.newPlot('850b208c-9153-41b5-a7c0-fd9940191259', [{\"y\":[1.2,0.4,0.6,0.5,0.4,0.6,0.2,0.2,0.3,0.1,0.0,0.5,0.2,0.1,0.0,0.3,0.0,0.2,0.0],\"name\":\"δ = 0.1\",\"type\":\"scatter\",\"x\":[2,3,4,5,6,7,8,9,10,11,12,13,14,15,16,17,18,19,20],\"mode\":\"lines+markers\"},{\"y\":[5.7,1.0,1.7999999999999998,2.4,3.9,4.6,6.2,7.000000000000001,6.9,6.800000000000001,7.7,7.000000000000001,6.4,8.1,8.1,7.3,8.4,7.7,7.199999999999999],\"name\":\"δ = 0.2\",\"type\":\"scatter\",\"x\":[2,3,4,5,6,7,8,9,10,11,12,13,14,15,16,17,18,19,20],\"mode\":\"lines+markers\"},{\"y\":[7.8,2.8000000000000003,4.7,11.600000000000001,15.9,19.1,27.700000000000003,35.199999999999996,38.7,45.5,51.300000000000004,57.699999999999996,62.4,66.4,66.9,72.1,73.1,77.60000000000001,80.9],\"name\":\"δ = 0.5\",\"type\":\"scatter\",\"x\":[2,3,4,5,6,7,8,9,10,11,12,13,14,15,16,17,18,19,20],\"mode\":\"lines+markers\"},{\"y\":[36.5,22.6,31.7,49.5,56.3,67.0,77.8,82.1,87.5,91.8,92.0,95.3,96.0,97.2,97.2,97.89999999999999,98.9,99.4,99.4],\"name\":\"δ = 1.0\",\"type\":\"scatter\",\"x\":[2,3,4,5,6,7,8,9,10,11,12,13,14,15,16,17,18,19,20],\"mode\":\"lines+markers\"}],\n",
       "               {\"yaxis\":{\"title\":\"Przebiegi rozbieżne [%]\"},\"xaxis\":{\"title\":\"Wielkość układu równań: n\"},\"title\":\"Rozbieżność\",\"margin\":{\"r\":50,\"l\":50,\"b\":50,\"t\":60}}, {showLink: false});\n",
       "\n",
       "    });\n",
       " </script>\n"
      ]
     },
     "execution_count": 130,
     "metadata": {},
     "output_type": "execute_result"
    }
   ],
   "source": [
    "plot(dtraceH, dlayout)"
   ]
  },
  {
   "cell_type": "markdown",
   "metadata": {},
   "source": [
    "### Układ 4\n",
    "\\begin{align*}\n",
    "V(x) &=\n",
    "\t\\left(\\begin{matrix}\n",
    "\t\tv_1(x) - v_1(\\bar{x}) \\\\ \n",
    "\t\tv_2(x) - v_2(\\bar{x}) \\\\ \n",
    "\t\t\\vdots\\\\ \n",
    "\t\tv_n(x) - v_n(\\bar{x})\n",
    "\t\\end{matrix}\\right), && \\text{dla} \\quad v_i(x) = x_1 + (i+1)x_2 + \\ldots + (i+1)^{n-1}x_n\n",
    "\\end{align*}"
   ]
  },
  {
   "cell_type": "code",
   "execution_count": 124,
   "metadata": {
    "collapsed": false
   },
   "outputs": [
    {
     "name": "stdout",
     "output_type": "stream",
     "text": [
      "Obliczam dla δ = 0.100\n",
      "Obliczam dla δ = 0.200\n",
      "Obliczam dla δ = 0.500\n",
      "Obliczam dla δ = 1.000\n"
     ]
    }
   ],
   "source": [
    "itraceV = Array{GenericTrace}(size(deltas, 1))\n",
    "dtraceV = Array{GenericTrace}(size(deltas, 1))\n",
    "for i in eachindex(deltas)\n",
    "    @printf \"Obliczam dla δ = %.3f\\n\" deltas[i]\n",
    "    iters, divgs = convergence_analysis(\"vandermonde\", deltas[i], verbose = false)\n",
    "    itraceV[i] = scatter(; x=2:20, y=iters, mode=\"lines+markers\", name=\"δ = $(deltas[i])\")\n",
    "    dtraceV[i] = scatter(; x=2:20, y=divgs.*100, mode=\"lines+markers\", name=\"δ = $(deltas[i])\")\n",
    "end"
   ]
  },
  {
   "cell_type": "code",
   "execution_count": 131,
   "metadata": {
    "collapsed": false
   },
   "outputs": [
    {
     "data": {
      "application/vnd.plotly.v1+json": "{\"layout\":{\"yaxis\":{\"title\":\"Iteracje\"},\"xaxis\":{\"title\":\"Wielkość układu równań: n\"},\"title\":\"Iteracja\",\"margin\":{\"r\":50,\"l\":50,\"b\":50,\"t\":60}},\"data\":[{\"y\":[2.0,2.0,2.0,2.4651866801210898,3.912568306010929,3.504843918191604,5.275217932752179,6.432876712328767,7.45072463768116,9.550420168067227,9.314893617021276,13.759938837920489,18.351791530944624,31.95367847411444,null,null,null,null,null],\"name\":\"δ = 0.1\",\"type\":\"scatter\",\"x\":[2,3,4,5,6,7,8,9,10,11,12,13,14,15,16,17,18,19,20],\"mode\":\"lines+markers\"},{\"y\":[2.0,2.0,2.0,2.4170854271356785,3.894456289978678,3.641386782231853,5.50186799501868,6.453580901856764,7.293103448275862,9.33925925925926,9.06296851574213,13.291158536585366,17.416267942583733,31.391414141414142,null,null,null,null,null],\"name\":\"δ = 0.2\",\"type\":\"scatter\",\"x\":[2,3,4,5,6,7,8,9,10,11,12,13,14,15,16,17,18,19,20],\"mode\":\"lines+markers\"},{\"y\":[2.0,2.0,2.0,2.391566265060241,3.9422657952069717,3.652173913043478,5.500616522811344,7.0845839017735335,8.432545201668985,9.673699015471167,9.389301634472512,14.233532934131736,18.742320819112628,32.984848484848484,null,null,null,null,null],\"name\":\"δ = 0.5\",\"type\":\"scatter\",\"x\":[2,3,4,5,6,7,8,9,10,11,12,13,14,15,16,17,18,19,20],\"mode\":\"lines+markers\"},{\"y\":[2.0,2.0,2.0,2.486404833836858,3.981798715203426,3.8706896551724137,5.7631578947368425,6.906291834002677,8.218523878437047,9.793342579750346,9.407914764079148,13.895962732919255,17.882644628099175,32.50247524752475,null,null,null,null,null],\"name\":\"δ = 1.0\",\"type\":\"scatter\",\"x\":[2,3,4,5,6,7,8,9,10,11,12,13,14,15,16,17,18,19,20],\"mode\":\"lines+markers\"}]}",
      "text/html": [
       "<div id=\"dc6a5ce9-3b19-4698-be1c-34ed1bb9ddbc\" class=\"plotly-graph-div\"></div>\n",
       "\n",
       "<script>\n",
       "    window.PLOTLYENV=window.PLOTLYENV || {};\n",
       "    window.PLOTLYENV.BASE_URL=\"https://plot.ly\";\n",
       "    require(['plotly'], function(Plotly) {\n",
       "        Plotly.newPlot('dc6a5ce9-3b19-4698-be1c-34ed1bb9ddbc', [{\"y\":[2.0,2.0,2.0,2.4651866801210898,3.912568306010929,3.504843918191604,5.275217932752179,6.432876712328767,7.45072463768116,9.550420168067227,9.314893617021276,13.759938837920489,18.351791530944624,31.95367847411444,null,null,null,null,null],\"name\":\"δ = 0.1\",\"type\":\"scatter\",\"x\":[2,3,4,5,6,7,8,9,10,11,12,13,14,15,16,17,18,19,20],\"mode\":\"lines+markers\"},{\"y\":[2.0,2.0,2.0,2.4170854271356785,3.894456289978678,3.641386782231853,5.50186799501868,6.453580901856764,7.293103448275862,9.33925925925926,9.06296851574213,13.291158536585366,17.416267942583733,31.391414141414142,null,null,null,null,null],\"name\":\"δ = 0.2\",\"type\":\"scatter\",\"x\":[2,3,4,5,6,7,8,9,10,11,12,13,14,15,16,17,18,19,20],\"mode\":\"lines+markers\"},{\"y\":[2.0,2.0,2.0,2.391566265060241,3.9422657952069717,3.652173913043478,5.500616522811344,7.0845839017735335,8.432545201668985,9.673699015471167,9.389301634472512,14.233532934131736,18.742320819112628,32.984848484848484,null,null,null,null,null],\"name\":\"δ = 0.5\",\"type\":\"scatter\",\"x\":[2,3,4,5,6,7,8,9,10,11,12,13,14,15,16,17,18,19,20],\"mode\":\"lines+markers\"},{\"y\":[2.0,2.0,2.0,2.486404833836858,3.981798715203426,3.8706896551724137,5.7631578947368425,6.906291834002677,8.218523878437047,9.793342579750346,9.407914764079148,13.895962732919255,17.882644628099175,32.50247524752475,null,null,null,null,null],\"name\":\"δ = 1.0\",\"type\":\"scatter\",\"x\":[2,3,4,5,6,7,8,9,10,11,12,13,14,15,16,17,18,19,20],\"mode\":\"lines+markers\"}],\n",
       "               {\"yaxis\":{\"title\":\"Iteracje\"},\"xaxis\":{\"title\":\"Wielkość układu równań: n\"},\"title\":\"Iteracja\",\"margin\":{\"r\":50,\"l\":50,\"b\":50,\"t\":60}}, {showLink: false});\n",
       "\n",
       "    });\n",
       " </script>\n"
      ]
     },
     "execution_count": 131,
     "metadata": {},
     "output_type": "execute_result"
    }
   ],
   "source": [
    "plot(itraceV, ilayout)"
   ]
  },
  {
   "cell_type": "code",
   "execution_count": 132,
   "metadata": {
    "collapsed": false
   },
   "outputs": [
    {
     "data": {
      "application/vnd.plotly.v1+json": "{\"layout\":{\"yaxis\":{\"title\":\"Przebiegi rozbieżne [%]\"},\"xaxis\":{\"title\":\"Wielkość układu równań: n\"},\"title\":\"Rozbieżność\",\"margin\":{\"r\":50,\"l\":50,\"b\":50,\"t\":60}},\"data\":[{\"y\":[0.0,0.0,0.0,0.8999999999999999,8.5,7.1,19.7,27.0,31.0,28.599999999999998,29.5,34.599999999999994,38.6,63.3,100.0,100.0,100.0,100.0,100.0],\"name\":\"δ = 0.1\",\"type\":\"scatter\",\"x\":[2,3,4,5,6,7,8,9,10,11,12,13,14,15,16,17,18,19,20],\"mode\":\"lines+markers\"},{\"y\":[0.0,0.0,0.0,0.5,6.2,7.7,19.7,24.6,30.4,32.5,33.300000000000004,34.4,37.3,60.4,100.0,100.0,100.0,100.0,100.0],\"name\":\"δ = 0.2\",\"type\":\"scatter\",\"x\":[2,3,4,5,6,7,8,9,10,11,12,13,14,15,16,17,18,19,20],\"mode\":\"lines+markers\"},{\"y\":[0.0,0.0,0.0,0.4,8.200000000000001,10.299999999999999,18.9,26.700000000000003,28.1,28.9,32.7,33.2,41.4,60.4,100.0,100.0,100.0,100.0,100.0],\"name\":\"δ = 0.5\",\"type\":\"scatter\",\"x\":[2,3,4,5,6,7,8,9,10,11,12,13,14,15,16,17,18,19,20],\"mode\":\"lines+markers\"},{\"y\":[0.0,0.0,0.0,0.7000000000000001,6.6000000000000005,7.199999999999999,20.200000000000003,25.3,30.9,27.900000000000002,34.300000000000004,35.6,39.5,59.599999999999994,100.0,100.0,100.0,100.0,100.0],\"name\":\"δ = 1.0\",\"type\":\"scatter\",\"x\":[2,3,4,5,6,7,8,9,10,11,12,13,14,15,16,17,18,19,20],\"mode\":\"lines+markers\"}]}",
      "text/html": [
       "<div id=\"8424e5d5-1786-4b96-8d2a-5615684d3332\" class=\"plotly-graph-div\"></div>\n",
       "\n",
       "<script>\n",
       "    window.PLOTLYENV=window.PLOTLYENV || {};\n",
       "    window.PLOTLYENV.BASE_URL=\"https://plot.ly\";\n",
       "    require(['plotly'], function(Plotly) {\n",
       "        Plotly.newPlot('8424e5d5-1786-4b96-8d2a-5615684d3332', [{\"y\":[0.0,0.0,0.0,0.8999999999999999,8.5,7.1,19.7,27.0,31.0,28.599999999999998,29.5,34.599999999999994,38.6,63.3,100.0,100.0,100.0,100.0,100.0],\"name\":\"δ = 0.1\",\"type\":\"scatter\",\"x\":[2,3,4,5,6,7,8,9,10,11,12,13,14,15,16,17,18,19,20],\"mode\":\"lines+markers\"},{\"y\":[0.0,0.0,0.0,0.5,6.2,7.7,19.7,24.6,30.4,32.5,33.300000000000004,34.4,37.3,60.4,100.0,100.0,100.0,100.0,100.0],\"name\":\"δ = 0.2\",\"type\":\"scatter\",\"x\":[2,3,4,5,6,7,8,9,10,11,12,13,14,15,16,17,18,19,20],\"mode\":\"lines+markers\"},{\"y\":[0.0,0.0,0.0,0.4,8.200000000000001,10.299999999999999,18.9,26.700000000000003,28.1,28.9,32.7,33.2,41.4,60.4,100.0,100.0,100.0,100.0,100.0],\"name\":\"δ = 0.5\",\"type\":\"scatter\",\"x\":[2,3,4,5,6,7,8,9,10,11,12,13,14,15,16,17,18,19,20],\"mode\":\"lines+markers\"},{\"y\":[0.0,0.0,0.0,0.7000000000000001,6.6000000000000005,7.199999999999999,20.200000000000003,25.3,30.9,27.900000000000002,34.300000000000004,35.6,39.5,59.599999999999994,100.0,100.0,100.0,100.0,100.0],\"name\":\"δ = 1.0\",\"type\":\"scatter\",\"x\":[2,3,4,5,6,7,8,9,10,11,12,13,14,15,16,17,18,19,20],\"mode\":\"lines+markers\"}],\n",
       "               {\"yaxis\":{\"title\":\"Przebiegi rozbieżne [%]\"},\"xaxis\":{\"title\":\"Wielkość układu równań: n\"},\"title\":\"Rozbieżność\",\"margin\":{\"r\":50,\"l\":50,\"b\":50,\"t\":60}}, {showLink: false});\n",
       "\n",
       "    });\n",
       " </script>\n"
      ]
     },
     "execution_count": 132,
     "metadata": {},
     "output_type": "execute_result"
    }
   ],
   "source": [
    "plot(dtraceV, dlayout)"
   ]
  }
 ],
 "metadata": {
  "kernelspec": {
   "display_name": "Julia 0.5.0",
   "language": "julia",
   "name": "julia-0.5"
  },
  "language_info": {
   "file_extension": ".jl",
   "mimetype": "application/julia",
   "name": "julia",
   "version": "0.5.0"
  }
 },
 "nbformat": 4,
 "nbformat_minor": 0
}
