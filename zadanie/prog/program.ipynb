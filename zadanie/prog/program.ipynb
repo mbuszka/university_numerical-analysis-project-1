{
 "cells": [
  {
   "cell_type": "markdown",
   "metadata": {
    "collapsed": true
   },
   "source": [
    "# Pracownia z analizy numerycznej, zadanie P1.16"
   ]
  },
  {
   "cell_type": "markdown",
   "metadata": {},
   "source": [
    "## Metoda Newtona"
   ]
  },
  {
   "cell_type": "code",
   "execution_count": 1,
   "metadata": {
    "collapsed": false
   },
   "outputs": [],
   "source": [
    "IJulia.load(\"newton.jl\")"
   ]
  },
  {
   "cell_type": "code",
   "execution_count": 6,
   "metadata": {
    "collapsed": false
   },
   "outputs": [
    {
     "data": {
      "text/plain": [
       "newton (generic function with 1 method)"
      ]
     },
     "execution_count": 6,
     "metadata": {},
     "output_type": "execute_result"
    }
   ],
   "source": [
    "include(\"utils.jl\")\n",
    "include(\"gauss.jl\")\n",
    "\n",
    "function newton(F, J, X\n",
    "                ; solve = gauss!\n",
    "                , ϵs = 1e-15\n",
    "                , maxiter = 20\n",
    "                , log = false\n",
    "                , latex = false)\n",
    "  ϵ = 1.0\n",
    "  i = 0\n",
    "  if log\n",
    "    @printf(\"Iteration\\t||F(X)||\\t\\tϵ\\n\")\n",
    "  elseif latex\n",
    "    @printf \"Iteracja & \\$\\\\|F(X)\\\\|\\$ & \\$\\\\epsilon\\$ \\\\\\\\ \\\\hline\\n\"\n",
    "  end\n",
    "  while ϵ > ϵs && i < maxiter\n",
    "    JX = J(X)\n",
    "    FX = F(X)\n",
    "    δX = solve(JX, FX)\n",
    "    ϵ  = norm(δX) / norm(X)\n",
    "    if log\n",
    "      @printf(\"%d\\t\\t%e\\t%e\\n\", i, norm(FX), ϵ)\n",
    "    elseif latex\n",
    "      @printf \"%d & %e & %e \\\\\\\\ \\\\hline\\n\" i norm(FX) ϵ\n",
    "    end\n",
    "    X  = X - δX\n",
    "    i += 1\n",
    "  end\n",
    "  if log\n",
    "    @printf(\"\\nFinal approximation:\\n\")\n",
    "    print_array(X)\n",
    "  end\n",
    "end\n"
   ]
  },
  {
   "cell_type": "code",
   "execution_count": 9,
   "metadata": {
    "collapsed": false
   },
   "outputs": [
    {
     "data": {
      "text/plain": [
       "2-element Array{Float64,1}:\n",
       " -2.0\n",
       "  2.5"
      ]
     },
     "execution_count": 9,
     "metadata": {},
     "output_type": "execute_result"
    }
   ],
   "source": [
    "gauss!([1.0 2.0; 3.0 4.0], [3.0, 4.0])"
   ]
  },
  {
   "cell_type": "code",
   "execution_count": 47,
   "metadata": {
    "collapsed": false
   },
   "outputs": [
    {
     "name": "stderr",
     "output_type": "stream",
     "text": [
      "WARNING: replacing module Examples\n"
     ]
    },
    {
     "data": {
      "text/plain": [
       "Examples"
      ]
     },
     "execution_count": 47,
     "metadata": {},
     "output_type": "execute_result"
    }
   ],
   "source": [
    "include(\"examples.jl\")"
   ]
  },
  {
   "cell_type": "markdown",
   "metadata": {},
   "source": [
    "### Przykład 1\n",
    "\\begin{align*}\n",
    "\tf_1(x) &= (x_1)^2 + (x_2)^2 - 25 \\\\\n",
    "\tf_2(x) &= (x_1)^2 - x_2 - 2\n",
    "\\end{align*}"
   ]
  },
  {
   "cell_type": "code",
   "execution_count": 13,
   "metadata": {
    "collapsed": false
   },
   "outputs": [
    {
     "name": "stdout",
     "output_type": "stream",
     "text": [
      "Iteration\t||F(X)||\t\tϵ\n",
      "0\t\t3.114482e+01\t5.884301e+00\n",
      "1\t\t5.301945e+01\t3.675183e-01\n",
      "2\t\t9.411666e+00\t1.725992e-01\n",
      "3\t\t7.950828e-01\t2.592261e-02\n",
      "4\t\t1.475216e-02\t5.889474e-04\n",
      "5\t\t8.572156e-06\t3.413509e-07\n",
      "6\t\t2.913225e-12\t1.158651e-13\n",
      "7\t\t1.256074e-15\t3.663005e-17\n",
      "\n",
      "Final approximation:\n",
      "[ 2.514e+00 4.322e+00 ]\n"
     ]
    }
   ],
   "source": [
    "F, J, X = Examples.set_1()\n",
    "newton(F, J, X, log = true)"
   ]
  },
  {
   "cell_type": "markdown",
   "metadata": {},
   "source": [
    "### Przykład 2\n",
    "\\begin{align*}\n",
    "\tf_1(x) &= x_1 + x_2 + x_3 \\\\\n",
    "\tf_2(x) &= (x_1)^2 + (x_2)^2 + (x_3)^2 - 2 \\\\\n",
    "    f_3(x) &= x_1(x_2 + x_3) + 1\n",
    "\\end{align*}"
   ]
  },
  {
   "cell_type": "code",
   "execution_count": 14,
   "metadata": {
    "collapsed": false
   },
   "outputs": [
    {
     "name": "stdout",
     "output_type": "stream",
     "text": [
      "Iteration\t||F(X)||\t\tϵ\n",
      "0\t\t1.873726e+00\t1.076430e+00\n",
      "1\t\t8.631775e-01\t2.001541e-01\n",
      "2\t\t9.520625e-02\t3.428260e-02\n",
      "3\t\t1.864611e-03\t7.209369e-04\n",
      "4\t\t7.757667e-07\t3.004528e-07\n",
      "5\t\t1.344542e-13\t5.211241e-14\n",
      "6\t\t0.000000e+00\t0.000000e+00\n",
      "\n",
      "Final approximation:\n",
      "[ 1.000e+00 -2.812e-17 -1.000e+00 ]\n"
     ]
    }
   ],
   "source": [
    "F, J, X = Examples.set_2()\n",
    "newton(F, J, X, log = true)"
   ]
  },
  {
   "cell_type": "markdown",
   "metadata": {},
   "source": [
    "### Przykład 3\n",
    "\\begin{align*}\n",
    "\tf_1(x) &= x_1 x_2 - (x_3)^2 - 1 \\\\\n",
    "\tf_2(x) &= x_1 x_2 x_3 + (x_2)^2 - (x_1)^2 - 2 \\\\\n",
    "    f_3(x) &= e^{x_1} + x_3 - e^{x_2} - 3\n",
    "\\end{align*}"
   ]
  },
  {
   "cell_type": "code",
   "execution_count": 15,
   "metadata": {
    "collapsed": false
   },
   "outputs": [
    {
     "name": "stdout",
     "output_type": "stream",
     "text": [
      "Iteration\t||F(X)||\t\tϵ\n",
      "0\t\t1.393168e+00\t5.927076e-01\n",
      "1\t\t5.404950e-01\t7.379226e-02\n",
      "2\t\t2.799916e-02\t4.400197e-03\n",
      "3\t\t1.086581e-04\t1.534432e-05\n",
      "4\t\t1.806242e-09\t2.150888e-10\n",
      "5\t\t1.158023e-15\t7.605550e-17\n",
      "\n",
      "Final approximation:\n",
      "[ 1.681e+00 1.420e+00 1.178e+00 ]\n"
     ]
    }
   ],
   "source": [
    "F, J, X = Examples.set_3()\n",
    "newton(F, J, X, log = true)"
   ]
  },
  {
   "cell_type": "markdown",
   "metadata": {},
   "source": [
    "### Przykład 4\n",
    "\\begin{align*}\n",
    "\tf_1(x) &= (x_1)^2 \\\\\n",
    "\tf_2(x) &= (x_2)^2 \n",
    "\\end{align*}"
   ]
  },
  {
   "cell_type": "code",
   "execution_count": 17,
   "metadata": {
    "collapsed": false
   },
   "outputs": [
    {
     "name": "stdout",
     "output_type": "stream",
     "text": [
      "Iteration\t||F(X)||\t\tϵ\n",
      "0\t\t1.414214e+00\t5.000000e-01\n",
      "1\t\t3.535534e-01\t5.000000e-01\n",
      "2\t\t8.838835e-02\t5.000000e-01\n",
      "3\t\t2.209709e-02\t5.000000e-01\n",
      "4\t\t5.524272e-03\t5.000000e-01\n",
      "5\t\t1.381068e-03\t5.000000e-01\n",
      "6\t\t3.452670e-04\t5.000000e-01\n",
      "7\t\t8.631675e-05\t5.000000e-01\n",
      "8\t\t2.157919e-05\t5.000000e-01\n",
      "9\t\t5.394797e-06\t5.000000e-01\n",
      "10\t\t1.348699e-06\t5.000000e-01\n",
      "11\t\t3.371748e-07\t5.000000e-01\n",
      "12\t\t8.429370e-08\t5.000000e-01\n",
      "13\t\t2.107342e-08\t5.000000e-01\n",
      "14\t\t5.268356e-09\t5.000000e-01\n",
      "15\t\t1.317089e-09\t5.000000e-01\n",
      "16\t\t3.292723e-10\t5.000000e-01\n",
      "17\t\t8.231806e-11\t5.000000e-01\n",
      "18\t\t2.057952e-11\t5.000000e-01\n",
      "19\t\t5.144879e-12\t5.000000e-01\n",
      "\n",
      "Final approximation:\n",
      "[ 9.537e-07 9.537e-07 ]\n"
     ]
    }
   ],
   "source": [
    "F, J, X = Examples.set_4()\n",
    "newton(F, J, X, log = true)"
   ]
  },
  {
   "cell_type": "markdown",
   "metadata": {},
   "source": [
    "### Przykład 5\n",
    "\\begin{align*}\n",
    "\tf_1(x) &= (x_1)^3 + 7(x_2)^2 - 7 \\\\\n",
    "\tf_2(x) &= (x_1)^2 + (x_2)^2 - 1\n",
    "\\end{align*}"
   ]
  },
  {
   "cell_type": "code",
   "execution_count": 18,
   "metadata": {
    "collapsed": false
   },
   "outputs": [
    {
     "name": "stdout",
     "output_type": "stream",
     "text": [
      "Iteration\t||F(X)||\t\tϵ\n",
      "0\t\t4.472136e+00\t1.264911e+00\n",
      "1\t\t2.031359e+01\t8.820599e-01\n",
      "2\t\t1.371753e+01\t4.438798e-01\n",
      "3\t\t2.183828e+00\t3.083473e-01\n",
      "4\t\t2.451219e-01\t2.325736e-01\n",
      "5\t\t8.822255e-02\t1.094101e-01\n",
      "6\t\t1.366937e-02\t5.328404e-02\n",
      "7\t\t2.924320e-03\t2.613764e-02\n",
      "8\t\t6.879729e-04\t1.293397e-02\n",
      "9\t\t1.675726e-04\t6.432501e-03\n",
      "10\t\t4.139445e-05\t3.207550e-03\n",
      "11\t\t1.028945e-05\t1.601591e-03\n",
      "12\t\t2.565159e-06\t8.002482e-04\n",
      "13\t\t6.404014e-07\t3.999872e-04\n",
      "14\t\t1.599900e-07\t1.999594e-04\n",
      "15\t\t3.998376e-08\t9.997112e-05\n",
      "16\t\t9.994225e-09\t4.998342e-05\n",
      "17\t\t2.498342e-09\t2.499117e-05\n",
      "18\t\t6.245589e-10\t1.249545e-05\n",
      "19\t\t1.561364e-10\t6.247696e-06\n",
      "\n",
      "Final approximation:\n",
      "[ 6.248e-06 1.000e+00 ]\n"
     ]
    }
   ],
   "source": [
    "F, J, X = Examples.set_5()\n",
    "newton(F, J, X, log = true)"
   ]
  },
  {
   "cell_type": "code",
   "execution_count": 20,
   "metadata": {
    "collapsed": false,
    "scrolled": true
   },
   "outputs": [
    {
     "name": "stdout",
     "output_type": "stream",
     "text": [
      "Iteration\t||F(X)||\t\tϵ\n",
      "0\t\t1.414214e+00\tInf\n",
      "1\t\t1.414214e+01\t1.000000e+00\n",
      "2\t\t0.000000e+00\t0.000000e+00\n",
      "\n",
      "Final approximation:\n",
      "[ 1.000e+00 1.000e+00 1.000e+00 1.000e+00 ]\n"
     ]
    }
   ],
   "source": [
    "F, J, X = Examples.generalized_rosenbrock(4)\n",
    "newton(F, J, X, log = true)"
   ]
  },
  {
   "cell_type": "markdown",
   "metadata": {},
   "source": [
    "### Przykład 6\n",
    "Układ równań postaci\n",
    "$$ f_k(x) = x_1 + (k+1)x_2 + \\ldots + (k+1)^{n-1} - \\frac{(k+1)^n - 1}{k} $$\n",
    "których Jakobian tworzy macierze podobne do macierzy Vandermonde'a, rowiązaniem jest $ x = (1 \\ldots 1)^T $"
   ]
  },
  {
   "cell_type": "code",
   "execution_count": 43,
   "metadata": {
    "collapsed": false
   },
   "outputs": [
    {
     "name": "stdout",
     "output_type": "stream",
     "text": [
      "Iteration\t||F(X)||\t\tϵ\n",
      "0\t\t1.109677e+09\t1.044748e+00\n",
      "1\t\t5.835779e-08\t3.591647e-06\n",
      "2\t\t1.496403e-07\t3.966258e-05\n",
      "3\t\t1.561474e-07\t1.324132e-05\n",
      "4\t\t4.850791e-07\t4.215657e-06\n",
      "5\t\t5.626922e-07\t4.916246e-06\n",
      "6\t\t5.882738e-07\t2.774697e-05\n",
      "7\t\t5.626922e-07\t4.916248e-06\n",
      "8\t\t8.031784e-08\t7.014734e-07\n",
      "9\t\t0.000000e+00\t0.000000e+00\n",
      "\n",
      "Final approximation:\n",
      "[ 1.000e+00 1.000e+00 1.000e+00 1.000e+00 1.000e+00 1.000e+00 1.000e+00 1.000e+00 1.000e+00 1.000e+00 ]\n"
     ]
    }
   ],
   "source": [
    "n = 10\n",
    "F, J = Examples.vandermonde(n)\n",
    "X = rand(n)\n",
    "newton(F, J, X, log = true)"
   ]
  },
  {
   "cell_type": "code",
   "execution_count": 45,
   "metadata": {
    "collapsed": false
   },
   "outputs": [
    {
     "name": "stdout",
     "output_type": "stream",
     "text": [
      "Iteration\t||F(X)||\t\tϵ\n",
      "0\t\t3.929309e+16\t8.395358e+03\n",
      "1\t\t7.957300e+00\t2.425639e-02\n",
      "2\t\t5.000000e-01\t6.571320e-01\n",
      "3\t\t3.871994e+00\t4.621210e-01\n",
      "4\t\t4.003055e+00\t1.982333e-01\n",
      "5\t\t1.147562e+01\t2.773830e-01\n",
      "6\t\t8.723854e+00\t2.223422e-01\n",
      "7\t\t5.000000e-01\t3.940746e-01\n",
      "8\t\t7.818537e-01\t5.209915e-01\n",
      "9\t\t0.000000e+00\t0.000000e+00\n",
      "\n",
      "Final approximation:\n",
      "[ 2.471e+03 -5.695e+03 5.855e+03 -3.564e+03 1.443e+03 -4.099e+02 8.623e+01 -1.210e+01 2.502e+00 8.720e-01 1.008e+00 9.996e-01 1.000e+00 1.000e+00 1.000e+00 ]\n"
     ]
    }
   ],
   "source": [
    "n = 15\n",
    "F, J = Examples.vandermonde(n)\n",
    "X = rand(n)\n",
    "newton(F, J, X, log = true)"
   ]
  },
  {
   "cell_type": "markdown",
   "metadata": {},
   "source": [
    "Zauważmy, że dla większych n wynik algorytmu jest diametralnie różny od prawdziwego rozwiązania"
   ]
  },
  {
   "cell_type": "code",
   "execution_count": 86,
   "metadata": {
    "collapsed": false
   },
   "outputs": [
    {
     "name": "stdout",
     "output_type": "stream",
     "text": [
      "Iteration\t||F(X)||\t\tϵ\n",
      "0\t\t1.728153e+03\t5.649324e+01\n",
      "1\t\t6.684426e+04\t4.840644e-01\n",
      "2\t\t1.624106e+04\t4.405802e-01\n",
      "3\t\t3.638117e+03\t3.139514e-01\n",
      "4\t\t6.152705e+02\t1.147942e-01\n",
      "5\t\t4.525508e+01\t1.165982e-02\n",
      "6\t\t4.081371e-01\t1.161528e-04\n",
      "7\t\t3.809541e-05\t1.098992e-08\n",
      "8\t\t3.362493e-13\t9.706921e-17\n",
      "9\t\t2.621116e-29\t7.566231e-33\n",
      "10\t\t1.592618e-61\t4.597436e-65\n",
      "\n",
      "Final approximation:\n",
      "[ 8.892e+00 8.509e+00 1.284e+01 ]\n"
     ]
    }
   ],
   "source": [
    "setprecision(256)\n",
    "F, J, X = Examples.polynomial(3, BigFloat)\n",
    "newton(F, J, [BigFloat(1), BigFloat(1), BigFloat(1)], log = true, ϵs = big\"1e-50\")"
   ]
  },
  {
   "cell_type": "code",
   "execution_count": 21,
   "metadata": {
    "collapsed": true
   },
   "outputs": [],
   "source": [
    "IJulia.load(\"gauss.jl\")"
   ]
  },
  {
   "cell_type": "code",
   "execution_count": null,
   "metadata": {
    "collapsed": true
   },
   "outputs": [],
   "source": [
    "\"\"\"\n",
    "Oblicza rozwiązanie układu równań AX = B metodą eliminacji Gaussa.\n",
    "\n",
    "Korzysta z naiwnego algorytmu zaadaptowanego z książki Numerical Mathematics\n",
    "and Computing Warda Cheney'a i Davida Kincaida\n",
    "\"\"\"\n",
    "function gauss_naive!(A, B)\n",
    "  n = length(B)\n",
    "  X = Array{eltype(A)}(n)\n",
    "  for k in 1 : n-1\n",
    "    for i = k + 1 : n\n",
    "      mult = A[i, k] / A[k, k]\n",
    "      A[i, k] = 0 \n",
    "      for j in k + 1 : n\n",
    "        A[i, j] -= mult * A[k, j]\n",
    "      end\n",
    "      B[i] -= mult * B[k]\n",
    "    end\n",
    "  end\n",
    "  X[n] = B[n] / A[n, n]\n",
    "  for i in n-1 : -1 : 1\n",
    "    sum = B[i]\n",
    "    for j in i + 1 : n\n",
    "      sum -= A[i, j] * X[j]\n",
    "    end\n",
    "    X[i] = sum / A[i, i]\n",
    "  end\n",
    "  X\n",
    "end\n",
    "\n",
    "\n",
    "\"\"\"\n",
    "Oblicza rozwiązanie układu równań AX = B metodą eliminacji Gaussa.\n",
    "\n",
    "Korzysta z algorytmu skalowanego elementu głównego, przekształca\n",
    "macierz wejściową A, tak że w górnej trójkątnej jej części znajduje się\n",
    "jej postać schodkowa, natomiast w dolnej zapisane są użyte mnożniki\n",
    "które wykorzystywane są w kroku podstawiania\n",
    "\n",
    "Algorytm został zaadaptowany z książki Numerical Mathematics and Computing\n",
    "Warda Cheney'a i Davida Kincaida\n",
    "\"\"\"\n",
    "function gauss!(A, B, log = false)\n",
    "  n = length(B)\n",
    "  l = gauss_eliminate!(A, n)\n",
    "  if log\n",
    "    @show A\n",
    "    @show l\n",
    "  end\n",
    "  X = gauss_substitute!(A, B, l, n)\n",
    "  if log\n",
    "    @show X\n",
    "  end\n",
    "  X\n",
    "end\n",
    "\n",
    "\n",
    "\"\"\"\n",
    "Implementuje krok eliminacji, zapisując mnożniki w dolnej trójkątnej\n",
    "części macierzy A i zwracając permutację wierszy macierzy A\n",
    "\"\"\"\n",
    "function gauss_eliminate!(A, n)\n",
    "  s = Array{eltype(A)}(n) # Scale vector\n",
    "  l = Array{Int}(n)       # Index permutation\n",
    "  for i in 1 : n\n",
    "    l[i] = i\n",
    "    smax = 0\n",
    "    for j in 1 : n\n",
    "      smax = max(smax, abs(A[i, j]))\n",
    "    end\n",
    "    s[i] = smax\n",
    "  end\n",
    "  for k in 1 : n-1\n",
    "    rmax = 0\n",
    "    maxidx = k\n",
    "    for i in k : n\n",
    "      r = abs(A[l[i], k] / s[l[i]])\n",
    "      if r > rmax\n",
    "        rmax = r\n",
    "        maxidx = i\n",
    "      end\n",
    "    end\n",
    "    t = l[maxidx]\n",
    "    l[maxidx] = l[k]\n",
    "    l[k] = t\n",
    "    for i = k + 1 : n\n",
    "      mult = A[l[i], k] / A[l[k], k]\n",
    "      A[l[i], k] = mult \n",
    "      for j in k + 1 : n\n",
    "        A[l[i], j] -= mult * A[l[k], j]\n",
    "      end\n",
    "    end\n",
    "  end\n",
    "  l\n",
    "end\n",
    "\n",
    "\"\"\"\n",
    "Implementuje krok podstawiania\n",
    "\"\"\"\n",
    "function gauss_substitute!(A, B, l, n)\n",
    "  X = Array{eltype(A)}(n) # Solution vector\n",
    "  for k in 1 : n - 1\n",
    "    for i in k + 1 : n\n",
    "      B[l[i]] -= A[l[i], k] * B[l[k]]\n",
    "    end\n",
    "  end\n",
    "  X[n] = B[l[n]] / A[l[n], n]\n",
    "  for i in n-1 : -1 : 1\n",
    "    sum = B[l[i]]\n",
    "    for j in i + 1 : n\n",
    "      sum -= A[l[i], j] * X[j]\n",
    "    end\n",
    "    X[i] = sum / A[l[i], i]\n",
    "  end\n",
    "  X\n",
    "end\n"
   ]
  },
  {
   "cell_type": "code",
   "execution_count": null,
   "metadata": {
    "collapsed": true
   },
   "outputs": [],
   "source": []
  }
 ],
 "metadata": {
  "kernelspec": {
   "display_name": "Julia 0.5.0",
   "language": "julia",
   "name": "julia-0.5"
  },
  "language_info": {
   "file_extension": ".jl",
   "mimetype": "application/julia",
   "name": "julia",
   "version": "0.5.0"
  }
 },
 "nbformat": 4,
 "nbformat_minor": 0
}
