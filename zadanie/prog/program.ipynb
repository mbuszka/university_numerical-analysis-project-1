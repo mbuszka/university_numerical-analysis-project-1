{
 "cells": [
  {
   "cell_type": "markdown",
   "metadata": {
    "collapsed": true
   },
   "source": [
    "# Pracownia z analizy numerycznej, zadanie P1.16"
   ]
  },
  {
   "cell_type": "markdown",
   "metadata": {},
   "source": [
    "# Metoda Newtona"
   ]
  },
  {
   "cell_type": "code",
   "execution_count": null,
   "metadata": {
    "collapsed": false
   },
   "outputs": [],
   "source": [
    "using PlotlyJS\n",
    "include(\"program.jl\")"
   ]
  },
  {
   "cell_type": "markdown",
   "metadata": {},
   "source": [
    "## Małe układy równań\n",
    "Zaprezentowane zostaną przebiegi metody Newtona dla przykładowych układów równań. Na końcu sekcji znajdują się wykresy porównujące zmianę błędu względnego szukanego rozwiązania oraz zmianę wartości funkcji dla wszystkich funkcji podanych poniżej"
   ]
  },
  {
   "cell_type": "markdown",
   "metadata": {},
   "source": [
    "### Przykład 1\n",
    "\\begin{equation*}\n",
    "F_1(x) = \n",
    "\\left(\\begin{matrix}\n",
    "\t(x_1)^2 + (x_2)^2 - 25 \\\\\n",
    "    (x_1)^2 - x_2 - 2\n",
    "\\end{matrix}\\right)\n",
    "\\end{equation*}"
   ]
  },
  {
   "cell_type": "code",
   "execution_count": null,
   "metadata": {
    "collapsed": false
   },
   "outputs": [],
   "source": [
    "iters, exs, efs = run_set(1, true)\n",
    "xtrace1 = scatter(; x=1:iters, y=-log10(exs), mode=\"lines+markers\", name=\"F₁\")\n",
    "ftrace1 = scatter(; x=1:iters, y=-log10(efs), mode=\"lines+markers\", name=\"F₁\")"
   ]
  },
  {
   "cell_type": "markdown",
   "metadata": {},
   "source": [
    "### Przykład 2\n",
    "\\begin{equation*}\n",
    "F_2(x) = \n",
    "\\left(\\begin{matrix}\n",
    "\tx_1 + x_2 + x_3 \\\\\n",
    "\t(x_1)^2 + (x_2)^2 + (x_3)^2 - 2 \\\\\n",
    "    x_1(x_2 + x_3) + 1\n",
    "\\end{matrix}\\right)\n",
    "\\end{equation*}"
   ]
  },
  {
   "cell_type": "code",
   "execution_count": null,
   "metadata": {
    "collapsed": false
   },
   "outputs": [],
   "source": [
    "iters, exs, efs = run_set(2, true)\n",
    "xtrace2 = scatter(; x=1:iters, y=-log10(exs), mode=\"lines+markers\", name=\"F₂\")\n",
    "ftrace2 = scatter(; x=1:iters, y=-log10(efs), mode=\"lines+markers\", name=\"F₂\")"
   ]
  },
  {
   "cell_type": "markdown",
   "metadata": {},
   "source": [
    "### Przykład 3\n",
    "\\begin{equation*}\n",
    "F_3(x) = \n",
    "\\left(\\begin{matrix}\n",
    "\tx_1 x_2 - (x_3)^2 - 1 \\\\\n",
    "\tx_1 x_2 x_3 + (x_2)^2 - (x_1)^2 - 2 \\\\\n",
    "    e^{x_1} + x_3 - e^{x_2} - 3\n",
    "\\end{matrix}\\right)\n",
    "\\end{equation*}"
   ]
  },
  {
   "cell_type": "code",
   "execution_count": null,
   "metadata": {
    "collapsed": false
   },
   "outputs": [],
   "source": [
    "iters, exs, efs = run_set(3, true)\n",
    "xtrace3 = scatter(; x=1:iters, y=-log10(exs), mode=\"lines+markers\", name=\"F₃\")\n",
    "ftrace3 = scatter(; x=1:iters, y=-log10(efs), mode=\"lines+markers\", name=\"F₃\")"
   ]
  },
  {
   "cell_type": "markdown",
   "metadata": {},
   "source": [
    "### Przykład 4\n",
    "\\begin{equation*}\n",
    "F_4(x) = \n",
    "\\left(\\begin{matrix}\n",
    "\t(x_1)^2 \\\\\n",
    "\t(x_2)^2 \n",
    "\\end{matrix}\\right)\n",
    "\\end{equation*}"
   ]
  },
  {
   "cell_type": "code",
   "execution_count": null,
   "metadata": {
    "collapsed": false
   },
   "outputs": [],
   "source": [
    "iters, exs, efs = run_set(4, true)\n",
    "xtrace4 = scatter(; x=1:iters, y=-log10(exs), mode=\"lines+markers\", name=\"F₄\")\n",
    "ftrace4 = scatter(; x=1:iters, y=-log10(efs), mode=\"lines+markers\", name=\"F₄\")"
   ]
  },
  {
   "cell_type": "markdown",
   "metadata": {},
   "source": [
    "### Przykład 5\n",
    "\\begin{equation*}\n",
    "F_5(x) = \n",
    "\\left(\\begin{matrix}\n",
    "\t(x_1)^3 + 7(x_2)^2 - 7 \\\\\n",
    "\t(x_1)^2 + (x_2)^2 - 1\n",
    "\\end{matrix}\\right)\n",
    "\\end{equation*}"
   ]
  },
  {
   "cell_type": "code",
   "execution_count": null,
   "metadata": {
    "collapsed": false
   },
   "outputs": [],
   "source": [
    "iters, exs, efs = run_set(5, true)\n",
    "xtrace5 = scatter(; x=1:iters, y=-log10(exs), mode=\"lines+markers\", name=\"F₅\")\n",
    "ftrace5 = scatter(; x=1:iters, y=-log10(efs), mode=\"lines+markers\", name=\"F₅\")"
   ]
  },
  {
   "cell_type": "markdown",
   "metadata": {},
   "source": [
    "### Przykład 6\n",
    "\\begin{equation*}\n",
    "F_6(x) = \n",
    "\\left(\\begin{matrix}\n",
    "    (x_1)^2 + \\sin x_1 \\cos x_2 \\\\\n",
    "    (x_2)^2 + \\cos x_1 \\sin x_2\n",
    "\\end{matrix}\\right)\n",
    "\\end{equation*}"
   ]
  },
  {
   "cell_type": "code",
   "execution_count": null,
   "metadata": {
    "collapsed": false,
    "scrolled": true
   },
   "outputs": [],
   "source": [
    "iters, exs, efs = run_set(6, true)\n",
    "xtrace6 = scatter(; x=1:iters, y=-log10(exs), mode=\"lines+markers\", name=\"F₆\")\n",
    "ftrace6 = scatter(; x=1:iters, y=-log10(efs), mode=\"lines+markers\", name=\"F₆\")"
   ]
  },
  {
   "cell_type": "code",
   "execution_count": null,
   "metadata": {
    "collapsed": false
   },
   "outputs": [],
   "source": [
    "layout = Layout(;title=\"Dokładność względna przybliżenia\", yaxis_title=\"Wskaźnik dokładności\", xaxis_title=\"Iteracja\")\n",
    "plot([xtrace1, xtrace2, xtrace3, xtrace4, xtrace5, xtrace6], layout)"
   ]
  },
  {
   "cell_type": "code",
   "execution_count": null,
   "metadata": {
    "collapsed": false
   },
   "outputs": [],
   "source": [
    "layout = Layout(;title=\"Norma wartości funkcji\", yaxis_title=\"Wskaźnik dokładności\", xaxis_title=\"Iteracja\")\n",
    "plot([ftrace1, ftrace2, ftrace3, ftrace4, ftrace5, ftrace6], layout)"
   ]
  },
  {
   "cell_type": "markdown",
   "metadata": {},
   "source": [
    "##  Duże układy równań\n",
    "Tutaj porównam wpływ wielkości układu równań oraz przybliżenia początkowego na zbieżność metody Newtona oraz ilość iteracji potrzebną do znalezienia pierwiastka. Dla każdego z czterech prototypów funkcji wykonuję obliczenia dla wielkości układu $ n $ od $ 2 $ do $ 20 $ i porównuję zbieżność oraz ilość iteracji dla przybliżeń początkowych\n",
    "$$\n",
    "x^{(0)} =\n",
    "\\left(\\begin{matrix}\n",
    "    x_1 \\\\\n",
    "    x_2 \\\\\n",
    "    \\vdots \\\\\n",
    "    x_n\n",
    "\\end{matrix}\\right), \\quad \\text{ dla } x_i \\in (1-\\delta, 1+\\delta)\n",
    "$$\n",
    "Dla parametru $ \\delta = 0.1, 0.2, 0.5, 1.0 $. Każda z funkcji rozważanych poniżej ma rozwiązanie \n",
    "$$ \\bar{x} =  \n",
    "\\left(\\begin{matrix}\n",
    "    1 \\\\\n",
    "    \\vdots \\\\\n",
    "    1\n",
    "\\end{matrix}\\right)\n",
    "$$"
   ]
  },
  {
   "cell_type": "markdown",
   "metadata": {},
   "source": [
    "#### Uwaga\n",
    "Każdy z poniższych testów może liczyć się nawet kilka minut."
   ]
  },
  {
   "cell_type": "markdown",
   "metadata": {},
   "source": [
    "### Układ 1\n",
    "\\begin{align*}\n",
    "F(x) &= \n",
    "\t\\left(\\begin{matrix}\n",
    "\t\tf_1(x) - f_1(\\bar{x}) \\\\ \n",
    "\t\tf_2(x) - f_2(\\bar{x}) \\\\ \n",
    "\t\t\\vdots\\\\ \n",
    "\t\tf_n(x) - f_n(\\bar{x})\n",
    "\t\\end{matrix}\\right), && \\text{dla} \\quad f_i(X) = a_{ik}X_iX_k, \\quad a_{ik} \\in (-10, 10)\n",
    "\\end{align*}"
   ]
  },
  {
   "cell_type": "code",
   "execution_count": null,
   "metadata": {
    "collapsed": false
   },
   "outputs": [],
   "source": [
    "deltas = [0.1, 0.2, 0.5, 1.0]\n",
    "itraceF = Array{GenericTrace}(size(deltas, 1))\n",
    "dtraceF = Array{GenericTrace}(size(deltas, 1))\n",
    "for i in eachindex(deltas)\n",
    "    @printf \"Obliczam dla δ = %.3f\\n\" deltas[i]\n",
    "    iters, divgs = convergence_analysis(\"polynomial\", deltas[i], verbose = false)\n",
    "    itraceF[i] = scatter(; x=2:20, y=iters, mode=\"lines+markers\", name=\"δ = $(deltas[i])\")\n",
    "    dtraceF[i] = scatter(; x=2:20, y=divgs.*100, mode=\"lines+markers\", name=\"δ = $(deltas[i])\")\n",
    "end"
   ]
  },
  {
   "cell_type": "code",
   "execution_count": null,
   "metadata": {
    "collapsed": false
   },
   "outputs": [],
   "source": [
    "ilayout = Layout(;title=\"Iteracja\", yaxis_title=\"Iteracje\", xaxis_title=\"Wielkość układu równań: n\")\n",
    "plot(itraceF, ilayout)"
   ]
  },
  {
   "cell_type": "code",
   "execution_count": null,
   "metadata": {
    "collapsed": false
   },
   "outputs": [],
   "source": [
    "dlayout = Layout(;title=\"Rozbieżność\", yaxis_title=\"Przebiegi rozbieżne [%]\", xaxis_title=\"Wielkość układu równań: n\")\n",
    "plot(dtraceF, dlayout)"
   ]
  },
  {
   "cell_type": "markdown",
   "metadata": {},
   "source": [
    "### Układ 2\n",
    "\\begin{align*}\n",
    "G(x) &=\n",
    "\t\\left(\\begin{matrix}\n",
    "\tg_1(x) - g_1(\\bar{x}) \\\\ \n",
    "\tg_2(x) - g_2(\\bar{x}) \\\\ \n",
    "\t\\vdots\\\\ \n",
    "\tg_n(x) - g_n(\\bar{x})\n",
    "\\end{matrix}\\right), && \\text{dla} \\quad g_i(X) = (x_i)^2\\ + \\sum_{k=1, k\\neq i}^{n}\\sin{x_i}cos{x_k}\n",
    "\\end{align*}"
   ]
  },
  {
   "cell_type": "code",
   "execution_count": null,
   "metadata": {
    "collapsed": false
   },
   "outputs": [],
   "source": [
    "itraceG = Array{GenericTrace}(size(deltas, 1))\n",
    "dtraceG = Array{GenericTrace}(size(deltas, 1))\n",
    "for i in eachindex(deltas)\n",
    "    @printf \"Obliczam dla δ = %.3f\\n\" deltas[i]\n",
    "    iters, divgs = convergence_analysis(\"sin_cos\", deltas[i], verbose = false)\n",
    "    itraceG[i] = scatter(; x=2:20, y=iters, mode=\"lines+markers\", name=\"δ = $(deltas[i])\")\n",
    "    dtraceG[i] = scatter(; x=2:20, y=divgs.*100, mode=\"lines+markers\", name=\"δ = $(deltas[i])\")\n",
    "end"
   ]
  },
  {
   "cell_type": "code",
   "execution_count": null,
   "metadata": {
    "collapsed": false
   },
   "outputs": [],
   "source": [
    "plot(itraceG, ilayout)"
   ]
  },
  {
   "cell_type": "code",
   "execution_count": null,
   "metadata": {
    "collapsed": false
   },
   "outputs": [],
   "source": [
    "plot(dtraceG, dlayout)"
   ]
  },
  {
   "cell_type": "markdown",
   "metadata": {},
   "source": [
    "### Układ 3\n",
    "\\begin{align*}\n",
    "H(x) &= \n",
    "\t\\left(\\begin{matrix}\n",
    "\th_1(x) - h_1(\\bar{x}) \\\\ \n",
    "\th_2(x) - h_2(\\bar{x}) \\\\ \n",
    "\t\\vdots\\\\ \n",
    "\th_n(x) - h_n(\\bar{x})\n",
    "\\end{matrix}\\right), && \\text{dla} \\quad h_i(X) = \n",
    "\t\t\\begin{cases}  \n",
    "\t\t\t\\sin{x_i}\\sin{x_{i+1}}\\cos{x_{i+2}}, & \\text{ gdy } i \\leq n-2 \\\\\n",
    "\t\t\t\\sin{x_{n-1}}\\sin{x_{n}}\\cos{x_{1}}, & \\text{ gdy } i = n - 1 \\\\\n",
    "\t\t\t\\sin{x_n}\\sin{x_{1}}\\cos{x_{2}}, & \\text{ gdy } i = n\n",
    "\t\t\\end{cases}\n",
    "\\end{align*}"
   ]
  },
  {
   "cell_type": "code",
   "execution_count": null,
   "metadata": {
    "collapsed": false
   },
   "outputs": [],
   "source": [
    "itraceH = Array{GenericTrace}(size(deltas, 1))\n",
    "dtraceH = Array{GenericTrace}(size(deltas, 1))\n",
    "for i in eachindex(deltas)\n",
    "    @printf \"Obliczam dla δ = %.3f\\n\" deltas[i]\n",
    "    iters, divgs = convergence_analysis(\"sin_cos_2\", deltas[i], verbose = false)\n",
    "    itraceH[i] = scatter(; x=2:20, y=iters, mode=\"lines+markers\", name=\"δ = $(deltas[i])\")\n",
    "    dtraceH[i] = scatter(; x=2:20, y=divgs.*100, mode=\"lines+markers\", name=\"δ = $(deltas[i])\")\n",
    "end"
   ]
  },
  {
   "cell_type": "code",
   "execution_count": null,
   "metadata": {
    "collapsed": false
   },
   "outputs": [],
   "source": [
    "plot(itraceH, ilayout)"
   ]
  },
  {
   "cell_type": "code",
   "execution_count": null,
   "metadata": {
    "collapsed": false
   },
   "outputs": [],
   "source": [
    "plot(dtraceH, dlayout)"
   ]
  },
  {
   "cell_type": "markdown",
   "metadata": {},
   "source": [
    "### Układ 4\n",
    "\\begin{align*}\n",
    "V(x) &=\n",
    "\t\\left(\\begin{matrix}\n",
    "\t\tv_1(x) - v_1(\\bar{x}) \\\\ \n",
    "\t\tv_2(x) - v_2(\\bar{x}) \\\\ \n",
    "\t\t\\vdots\\\\ \n",
    "\t\tv_n(x) - v_n(\\bar{x})\n",
    "\t\\end{matrix}\\right), && \\text{dla} \\quad v_i(x) = x_1 + (i+1)x_2 + \\ldots + (i+1)^{n-1}x_n\n",
    "\\end{align*}"
   ]
  },
  {
   "cell_type": "code",
   "execution_count": null,
   "metadata": {
    "collapsed": false
   },
   "outputs": [],
   "source": [
    "itraceV = Array{GenericTrace}(size(deltas, 1))\n",
    "dtraceV = Array{GenericTrace}(size(deltas, 1))\n",
    "for i in eachindex(deltas)\n",
    "    @printf \"Obliczam dla δ = %.3f\\n\" deltas[i]\n",
    "    iters, divgs = convergence_analysis(\"vandermonde\", deltas[i], verbose = false)\n",
    "    itraceV[i] = scatter(; x=2:20, y=iters, mode=\"lines+markers\", name=\"δ = $(deltas[i])\")\n",
    "    dtraceV[i] = scatter(; x=2:20, y=divgs.*100, mode=\"lines+markers\", name=\"δ = $(deltas[i])\")\n",
    "end"
   ]
  },
  {
   "cell_type": "code",
   "execution_count": null,
   "metadata": {
    "collapsed": false
   },
   "outputs": [],
   "source": [
    "plot(itraceV, ilayout)"
   ]
  },
  {
   "cell_type": "code",
   "execution_count": null,
   "metadata": {
    "collapsed": false
   },
   "outputs": [],
   "source": [
    "plot(dtraceV, dlayout)"
   ]
  },
  {
   "cell_type": "markdown",
   "metadata": {},
   "source": [
    "# Metoda eliminacji Gaussa"
   ]
  },
  {
   "cell_type": "code",
   "execution_count": null,
   "metadata": {
    "collapsed": false
   },
   "outputs": [],
   "source": [
    "compare_gauss()"
   ]
  }
 ],
 "metadata": {
  "kernelspec": {
   "display_name": "Julia 0.5.0",
   "language": "julia",
   "name": "julia-0.5"
  },
  "language_info": {
   "file_extension": ".jl",
   "mimetype": "application/julia",
   "name": "julia",
   "version": "0.5.0"
  }
 },
 "nbformat": 4,
 "nbformat_minor": 0
}
